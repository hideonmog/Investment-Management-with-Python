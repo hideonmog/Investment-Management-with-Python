{
 "cells": [
  {
   "cell_type": "markdown",
   "metadata": {},
   "source": [
    "# Applying Quadprog to Draw the Efficient Frontier\n",
    "\n",
    "The efficient frontier is the space of portfolios we would want to hold because there is no way of getting a higher return for the same level of volatility or for you to get a portfolio with equivalent return, but lower volatility. These portfolios lie on the efficient frontier and are portfolios which you cannot improve without changing either the volatility or return.\n",
    "\n",
    "### Convex Optimisation to Draw the Efficient Frontier\n",
    "\n",
    "Given a set of asset returns, volatilities and correlations we can plot the efficient frontier. We need to have expressions for the return and volatility for a portfolio. \n",
    "\n",
    "The expression for return on a portfolio is nothing more than the weighted average returns of the constituents of that portfolio:\n",
    "\n",
    "$$R_p = \\sum_{i=1}^k w_iR_i.$$\n",
    "\n",
    "The expression for portfolio variance $\\sigma^2$ is a generalisation of the formula we've already seen in the 2-asset case:\n",
    "\n",
    "$$\\sigma^2_p = \\sum_{i=1}^k \\sum_{j=1}^kw_iw_j\\sigma_i\\sigma_j\\rho_{ij},$$\n",
    "\n",
    "$$\\sigma^2_p  = \\sum_{i=1}^k \\sum_{j=1}^kw_iw_j\\sigma_{ij},$$\n",
    "\n",
    "where $\\sigma_{ij}$ is the covariance between the two assets.\n",
    "\n",
    "### Matrix Form Expression\n",
    "\n",
    "$$R_p = \\mathbf{w}^\\intercal \\mathbf{R}$$\n",
    "\n",
    "$$\\sigma_p^2 = \\mathbf{w}^\\intercal \\mathbf{\\Sigma}\\mathbf{w}$$\n",
    "\n",
    "### Plotting the Efficient Frontier\n",
    "\n",
    "A portfolio on the efficient frontier is on with the minimum volatility for a certain level of return. The expression which finds such portfolios is given in quadratic form as\n",
    "\n",
    "$$\\text{Minimise} \\colon \\frac12 \\mathbf{w}^\\intercal \\mathbf{\\Sigma} \\mathbf{w}$$\n",
    "\n",
    "subject to the constraints\n",
    "\n",
    "$$\\mathbf{w}^\\intercal \\mathbf{R} = \\mathbf{r}_0,$$\n",
    "$$\\mathbf{w}^\\intercal \\mathbf{1} = \\mathbf{1},$$\n",
    "$$\\mathbf{w} \\leq 0.$$\n",
    "\n",
    "To a quadratic optimiser we supply a set of constraints and an objective function. The objective function is to minimise the volatility and the constraints are the individual returns of each asset, the weights add up to one and the weights must be greater than zero."
   ]
  },
  {
   "cell_type": "markdown",
   "metadata": {},
   "source": [
    "## Lab Session - Efficient Frontier Part 2"
   ]
  },
  {
   "cell_type": "code",
   "execution_count": 1,
   "metadata": {},
   "outputs": [],
   "source": [
    "import pandas as pd\n",
    "import numpy as np\n",
    "import edhec_risk_kit as erk\n",
    "\n",
    "%load_ext autoreload\n",
    "%autoreload 2"
   ]
  },
  {
   "cell_type": "code",
   "execution_count": 2,
   "metadata": {},
   "outputs": [],
   "source": [
    "ind = erk.get_ind_returns()\n",
    "er = erk.annualise_rets(ind['1996':'2000'], 12)\n",
    "cov = ind['1996':'2000'].cov()"
   ]
  },
  {
   "cell_type": "code",
   "execution_count": 3,
   "metadata": {},
   "outputs": [],
   "source": [
    "def portfolio_return(weights, returns):\n",
    "    ''''\n",
    "    Weights -> Returns\n",
    "    '''\n",
    "    return weights.T @ returns\n",
    "\n",
    "def portfolio_vol(weights, covmat):\n",
    "    '''\n",
    "    Weights -> Vol\n",
    "    '''\n",
    "    return (weights.T @ covmat @ weights)**0.5"
   ]
  },
  {
   "cell_type": "code",
   "execution_count": 4,
   "metadata": {},
   "outputs": [
    {
     "data": {
      "text/plain": [
       "Food     0.116799\n",
       "Beer     0.141126\n",
       "Smoke    0.107830\n",
       "Coal     0.414689\n",
       "dtype: float64"
      ]
     },
     "execution_count": 4,
     "metadata": {},
     "output_type": "execute_result"
    }
   ],
   "source": [
    "l = ['Food', 'Beer', 'Smoke', 'Coal']\n",
    "er[l]"
   ]
  },
  {
   "cell_type": "code",
   "execution_count": 5,
   "metadata": {},
   "outputs": [
    {
     "data": {
      "text/html": [
       "<div>\n",
       "<style scoped>\n",
       "    .dataframe tbody tr th:only-of-type {\n",
       "        vertical-align: middle;\n",
       "    }\n",
       "\n",
       "    .dataframe tbody tr th {\n",
       "        vertical-align: top;\n",
       "    }\n",
       "\n",
       "    .dataframe thead th {\n",
       "        text-align: right;\n",
       "    }\n",
       "</style>\n",
       "<table border=\"1\" class=\"dataframe\">\n",
       "  <thead>\n",
       "    <tr style=\"text-align: right;\">\n",
       "      <th></th>\n",
       "      <th>Food</th>\n",
       "      <th>Beer</th>\n",
       "      <th>Smoke</th>\n",
       "      <th>Coal</th>\n",
       "    </tr>\n",
       "  </thead>\n",
       "  <tbody>\n",
       "    <tr>\n",
       "      <th>Food</th>\n",
       "      <td>0.002609</td>\n",
       "      <td>0.002379</td>\n",
       "      <td>0.002061</td>\n",
       "      <td>0.000027</td>\n",
       "    </tr>\n",
       "    <tr>\n",
       "      <th>Beer</th>\n",
       "      <td>0.002379</td>\n",
       "      <td>0.005264</td>\n",
       "      <td>0.001359</td>\n",
       "      <td>0.001728</td>\n",
       "    </tr>\n",
       "    <tr>\n",
       "      <th>Smoke</th>\n",
       "      <td>0.002061</td>\n",
       "      <td>0.001359</td>\n",
       "      <td>0.008349</td>\n",
       "      <td>-0.000733</td>\n",
       "    </tr>\n",
       "    <tr>\n",
       "      <th>Coal</th>\n",
       "      <td>0.000027</td>\n",
       "      <td>0.001728</td>\n",
       "      <td>-0.000733</td>\n",
       "      <td>0.018641</td>\n",
       "    </tr>\n",
       "  </tbody>\n",
       "</table>\n",
       "</div>"
      ],
      "text/plain": [
       "           Food      Beer     Smoke      Coal\n",
       "Food   0.002609  0.002379  0.002061  0.000027\n",
       "Beer   0.002379  0.005264  0.001359  0.001728\n",
       "Smoke  0.002061  0.001359  0.008349 -0.000733\n",
       "Coal   0.000027  0.001728 -0.000733  0.018641"
      ]
     },
     "execution_count": 5,
     "metadata": {},
     "output_type": "execute_result"
    }
   ],
   "source": [
    "cov.loc[l, l]"
   ]
  },
  {
   "cell_type": "code",
   "execution_count": 6,
   "metadata": {},
   "outputs": [
    {
     "data": {
      "text/plain": [
       "0.19511097196038385"
      ]
     },
     "execution_count": 6,
     "metadata": {},
     "output_type": "execute_result"
    }
   ],
   "source": [
    "weights = np.repeat(1/4, 4)\n",
    "erk.portfolio_return(weights, er[l])"
   ]
  },
  {
   "cell_type": "code",
   "execution_count": 7,
   "metadata": {},
   "outputs": [
    {
     "data": {
      "text/plain": [
       "0.05505919577643704"
      ]
     },
     "execution_count": 7,
     "metadata": {},
     "output_type": "execute_result"
    }
   ],
   "source": [
    "erk.portfolio_vol(weights, cov.loc[l, l])"
   ]
  },
  {
   "cell_type": "markdown",
   "metadata": {},
   "source": [
    "### 2-Asset Frontier"
   ]
  },
  {
   "cell_type": "code",
   "execution_count": 8,
   "metadata": {},
   "outputs": [],
   "source": [
    "l = ['Games', 'Fin']"
   ]
  },
  {
   "cell_type": "code",
   "execution_count": 9,
   "metadata": {},
   "outputs": [],
   "source": [
    "n_points = 20\n",
    "weights = [np.array([w, 1-w]) for w in np.linspace(0, 1, n_points)]"
   ]
  },
  {
   "cell_type": "code",
   "execution_count": 10,
   "metadata": {},
   "outputs": [
    {
     "data": {
      "text/plain": [
       "[array([0., 1.]),\n",
       " array([0.05263158, 0.94736842]),\n",
       " array([0.10526316, 0.89473684]),\n",
       " array([0.15789474, 0.84210526]),\n",
       " array([0.21052632, 0.78947368]),\n",
       " array([0.26315789, 0.73684211]),\n",
       " array([0.31578947, 0.68421053]),\n",
       " array([0.36842105, 0.63157895]),\n",
       " array([0.42105263, 0.57894737]),\n",
       " array([0.47368421, 0.52631579]),\n",
       " array([0.52631579, 0.47368421]),\n",
       " array([0.57894737, 0.42105263]),\n",
       " array([0.63157895, 0.36842105]),\n",
       " array([0.68421053, 0.31578947]),\n",
       " array([0.73684211, 0.26315789]),\n",
       " array([0.78947368, 0.21052632]),\n",
       " array([0.84210526, 0.15789474]),\n",
       " array([0.89473684, 0.10526316]),\n",
       " array([0.94736842, 0.05263158]),\n",
       " array([1., 0.])]"
      ]
     },
     "execution_count": 10,
     "metadata": {},
     "output_type": "execute_result"
    }
   ],
   "source": [
    "weights"
   ]
  },
  {
   "cell_type": "code",
   "execution_count": 11,
   "metadata": {},
   "outputs": [
    {
     "data": {
      "text/plain": [
       "20"
      ]
     },
     "execution_count": 11,
     "metadata": {},
     "output_type": "execute_result"
    }
   ],
   "source": [
    "len(weights)"
   ]
  },
  {
   "cell_type": "code",
   "execution_count": 12,
   "metadata": {},
   "outputs": [
    {
     "data": {
      "text/plain": [
       "['Games', 'Fin']"
      ]
     },
     "execution_count": 12,
     "metadata": {},
     "output_type": "execute_result"
    }
   ],
   "source": [
    "l"
   ]
  },
  {
   "cell_type": "code",
   "execution_count": 13,
   "metadata": {},
   "outputs": [
    {
     "data": {
      "text/plain": [
       "<AxesSubplot:xlabel='Vol', ylabel='R'>"
      ]
     },
     "execution_count": 13,
     "metadata": {},
     "output_type": "execute_result"
    },
    {
     "data": {
      "image/png": "[encoded data removed]",
      "text/plain": [
       "<Figure size 864x576 with 1 Axes>"
      ]
     },
     "metadata": {
      "needs_background": "light"
     },
     "output_type": "display_data"
    }
   ],
   "source": [
    "rets = [erk.portfolio_return(w, er[l]) for w in weights]\n",
    "vols = [erk.portfolio_vol(w, cov.loc[l, l]) for w in weights]\n",
    "ef = pd.DataFrame({'R': rets, 'Vol': vols})\n",
    "ef.plot.scatter(x = 'Vol', y = 'R', figsize = (12, 8))"
   ]
  },
  {
   "cell_type": "code",
   "execution_count": 14,
   "metadata": {},
   "outputs": [
    {
     "data": {
      "text/plain": [
       "<AxesSubplot:xlabel='Volatility'>"
      ]
     },
     "execution_count": 14,
     "metadata": {},
     "output_type": "execute_result"
    },
    {
     "data": {
      "image/png": "[encoded data removed]",
      "text/plain": [
       "<Figure size 432x288 with 1 Axes>"
      ]
     },
     "metadata": {
      "needs_background": "light"
     },
     "output_type": "display_data"
    }
   ],
   "source": [
    "l = ['Fin', 'Beer']\n",
    "erk.plot_ef2(25, er[l], cov.loc[l, l], style = '--')"
   ]
  },
  {
   "cell_type": "markdown",
   "metadata": {},
   "source": [
    "# Lab Session - N-Asset Efficient Frontier"
   ]
  },
  {
   "cell_type": "code",
   "execution_count": 15,
   "metadata": {},
   "outputs": [],
   "source": [
    "ind = erk.get_ind_returns()\n",
    "er = erk.annualise_rets(ind['1996':'2000'], 12)\n",
    "cov = ind['1996':'2000'].cov()"
   ]
  },
  {
   "cell_type": "markdown",
   "metadata": {},
   "source": [
    "```py\n",
    "def plot_ef(n_points, er, cov, style = '.-'):\n",
    "    '''\n",
    "    Plots the N-asset efficient frontier\n",
    "    '''\n",
    "    weights = minimise_vol(target_return)\n",
    "    rets = [portfolio_return(w, er) for w in weights]\n",
    "    vols = [portfolio_vol(w, cov) for w in weights]\n",
    "    ef = pd.DataFrame({\n",
    "        'Returns': rets,\n",
    "        'Volatility': vols\n",
    "        })\n",
    "    return ef.plot.line(x = 'Volatility', y = 'Returns', style = style)\n",
    "```"
   ]
  },
  {
   "cell_type": "code",
   "execution_count": 16,
   "metadata": {},
   "outputs": [],
   "source": [
    "from scipy.optimize import minimize"
   ]
  },
  {
   "cell_type": "code",
   "execution_count": 17,
   "metadata": {},
   "outputs": [
    {
     "data": {
      "text/plain": [
       "<AxesSubplot:xlabel='Volatility'>"
      ]
     },
     "execution_count": 17,
     "metadata": {},
     "output_type": "execute_result"
    },
    {
     "data": {
      "image/png": "[encoded data removed]",
      "text/plain": [
       "<Figure size 432x288 with 1 Axes>"
      ]
     },
     "metadata": {
      "needs_background": "light"
     },
     "output_type": "display_data"
    }
   ],
   "source": [
    "l = ['Games', 'Fin']\n",
    "erk.plot_ef2(20, er[l], cov.loc[l, l])"
   ]
  },
  {
   "cell_type": "code",
   "execution_count": 18,
   "metadata": {},
   "outputs": [],
   "source": [
    "def minimise_vol(target_return, er, cov):\n",
    "    '''\n",
    "    target_r -> W\n",
    "    '''\n",
    "    n = er.shape[0]\n",
    "    init_guess = np.repeat(1/n, n)\n",
    "    bounds = ((0.0, 1.0), ) * n\n",
    "    return_is_target = {\n",
    "        'type': 'eq',\n",
    "        'args': (er, ),\n",
    "        'fun': lambda weights, er: target_return - erk.portfolio_return(weights, er)\n",
    "    }\n",
    "    weights_sum_to_1 = {\n",
    "        'type': 'eq',\n",
    "        'fun': lambda weights: np.sum(weights) - 1\n",
    "    }\n",
    "    results = minimize(erk.portfolio_vol, init_guess,\n",
    "                        args = (cov, ), method = 'SLSQP',\n",
    "                        options = {'disp': False},\n",
    "                        constraints = (return_is_target, weights_sum_to_1),\n",
    "                        bounds = bounds\n",
    "                        )\n",
    "    return results.x"
   ]
  },
  {
   "cell_type": "code",
   "execution_count": 19,
   "metadata": {},
   "outputs": [
    {
     "data": {
      "text/plain": [
       "0.05606089738491284"
      ]
     },
     "execution_count": 19,
     "metadata": {},
     "output_type": "execute_result"
    }
   ],
   "source": [
    "w14 = minimise_vol(0.14, er[l], cov.loc[l, l])\n",
    "vol14 = erk.portfolio_vol(w14, cov.loc[l, l])\n",
    "vol14"
   ]
  },
  {
   "cell_type": "code",
   "execution_count": 20,
   "metadata": {},
   "outputs": [
    {
     "data": {
      "text/plain": [
       "array([0.53732595, 0.46267405])"
      ]
     },
     "execution_count": 20,
     "metadata": {},
     "output_type": "execute_result"
    }
   ],
   "source": [
    "w14"
   ]
  },
  {
   "cell_type": "code",
   "execution_count": 21,
   "metadata": {},
   "outputs": [
    {
     "data": {
      "text/plain": [
       "0.05606089738491284"
      ]
     },
     "execution_count": 21,
     "metadata": {},
     "output_type": "execute_result"
    }
   ],
   "source": [
    "w14 = erk.minimise_vol(0.14, er[l], cov.loc[l, l])\n",
    "vol14 = erk.portfolio_vol(w14, cov.loc[l, l])\n",
    "vol14"
   ]
  },
  {
   "cell_type": "code",
   "execution_count": 22,
   "metadata": {},
   "outputs": [
    {
     "data": {
      "text/plain": [
       "array([0.53732595, 0.46267405])"
      ]
     },
     "execution_count": 22,
     "metadata": {},
     "output_type": "execute_result"
    }
   ],
   "source": [
    "w14"
   ]
  },
  {
   "cell_type": "code",
   "execution_count": 37,
   "metadata": {},
   "outputs": [],
   "source": [
    "def optimal_weights(n_points, er, cov):\n",
    "    '''\n",
    "    -> list of weight sto run the optimiser on to minimise the vol\n",
    "    '''\n",
    "    target_rs = np.linspace(er.min(), er.max(), n_points)\n",
    "    weights = [minimise_vol(target_return, er, cov) for target_return in target_rs]\n",
    "    return weights"
   ]
  },
  {
   "cell_type": "code",
   "execution_count": 34,
   "metadata": {},
   "outputs": [],
   "source": [
    "def plot_ef(n_points, er, cov, style = '.-'):\n",
    "    '''\n",
    "    Plots the N-asset efficient frontier\n",
    "    '''\n",
    "    weights = optimal_weights(n_points, er, cov)\n",
    "    rets = [erk.portfolio_return(w, er) for w in weights]\n",
    "    vols = [erk.portfolio_vol(w, cov) for w in weights]\n",
    "    ef = pd.DataFrame({\n",
    "        'Returns': rets,\n",
    "        'Volatility': vols\n",
    "        })\n",
    "    return ef.plot.line(x = 'Volatility', y = 'Returns', style = style)"
   ]
  },
  {
   "cell_type": "code",
   "execution_count": 35,
   "metadata": {},
   "outputs": [
    {
     "data": {
      "text/plain": [
       "[array([2.59453257e-11, 9.10741145e-17, 1.00000000e+00, 0.00000000e+00]),\n",
       " array([2.82558544e-01, 3.77484971e-04, 7.07876265e-01, 9.18770546e-03]),\n",
       " array([0.27459505, 0.06550564, 0.63730009, 0.02259922]),\n",
       " array([0.26454234, 0.12491864, 0.57173002, 0.038809  ]),\n",
       " array([0.25544391, 0.18491584, 0.50499221, 0.05464804]),\n",
       " array([0.24434724, 0.25412834, 0.43493564, 0.06658877]),\n",
       " array([0.23775853, 0.305169  , 0.3709207 , 0.08615176]),\n",
       " array([0.22889874, 0.36533451, 0.3038786 , 0.10188814]),\n",
       " array([0.22011103, 0.42534718, 0.23685706, 0.11768473]),\n",
       " array([0.20800597, 0.48559522, 0.17264357, 0.13375524]),\n",
       " array([0.20414828, 0.54182261, 0.10334589, 0.15068322]),\n",
       " array([0.19331722, 0.6053109 , 0.03621488, 0.165157  ]),\n",
       " array([0.1668322, 0.6379176, 0.       , 0.1952502]),\n",
       " array([1.19574966e-01, 6.38255917e-01, 6.53698794e-18, 2.42169117e-01]),\n",
       " array([0.07290136, 0.63765814, 0.        , 0.2894405 ]),\n",
       " array([2.58620854e-02, 6.37646868e-01, 7.23612908e-17, 3.36491047e-01]),\n",
       " array([0.00000000e+00, 6.03669024e-01, 1.21198020e-16, 3.96330976e-01]),\n",
       " array([0.00000000e+00, 5.28210395e-01, 1.19771995e-16, 4.71789605e-01]),\n",
       " array([0.00000000e+00, 4.52751767e-01, 1.13152558e-16, 5.47248233e-01]),\n",
       " array([0.0000000e+00, 3.7729314e-01, 6.7845052e-18, 6.2270686e-01]),\n",
       " array([7.58941521e-18, 3.01834512e-01, 1.59036173e-18, 6.98165488e-01]),\n",
       " array([1.11022302e-16, 2.26375883e-01, 0.00000000e+00, 7.73624117e-01]),\n",
       " array([1.11022302e-16, 1.50917255e-01, 0.00000000e+00, 8.49082745e-01]),\n",
       " array([0.        , 0.07545863, 0.        , 0.92454137]),\n",
       " array([1.90943979e-17, 0.00000000e+00, 1.12235860e-16, 1.00000000e+00])]"
      ]
     },
     "execution_count": 35,
     "metadata": {},
     "output_type": "execute_result"
    }
   ],
   "source": [
    "l = ['Smoke', 'Fin', 'Games', 'Coal']\n",
    "optimal_weights(25, er[l], cov.loc[l,l])"
   ]
  },
  {
   "cell_type": "code",
   "execution_count": 36,
   "metadata": {},
   "outputs": [
    {
     "data": {
      "text/plain": [
       "<AxesSubplot:xlabel='Volatility'>"
      ]
     },
     "execution_count": 36,
     "metadata": {},
     "output_type": "execute_result"
    },
    {
     "data": {
      "image/png": "[encoded data removed]",
      "text/plain": [
       "<Figure size 432x288 with 1 Axes>"
      ]
     },
     "metadata": {
      "needs_background": "light"
     },
     "output_type": "display_data"
    }
   ],
   "source": [
    "plot_ef(25, er[l], cov.loc[l,l])"
   ]
  },
  {
   "cell_type": "code",
   "execution_count": 38,
   "metadata": {},
   "outputs": [
    {
     "data": {
      "text/plain": [
       "<AxesSubplot:xlabel='Volatility'>"
      ]
     },
     "execution_count": 38,
     "metadata": {},
     "output_type": "execute_result"
    },
    {
     "data": {
      "image/png": "[encoded data removed]",
      "text/plain": [
       "<Figure size 432x288 with 1 Axes>"
      ]
     },
     "metadata": {
      "needs_background": "light"
     },
     "output_type": "display_data"
    }
   ],
   "source": [
    "erk.plot_ef(25, er[l], cov.loc[l,l])"
   ]
  }
 ],
 "metadata": {
  "kernelspec": {
   "display_name": "Python 3.10.2 ('Investment-Management-with-Python-3feIDhEi': pipenv)",
   "language": "python",
   "name": "python3"
  },
  "language_info": {
   "codemirror_mode": {
    "name": "ipython",
    "version": 3
   },
   "file_extension": ".py",
   "mimetype": "text/x-python",
   "name": "python",
   "nbconvert_exporter": "python",
   "pygments_lexer": "ipython3",
   "version": "3.10.2"
  },
  "orig_nbformat": 4,
  "vscode": {
   "interpreter": {
    "hash": "5177ea2b85ad9f85adfeb4d69aa2ac09b0af5e9e42cc7bf37df3babaebb16599"
   }
  }
 },
 "nbformat": 4,
 "nbformat_minor": 2
}
