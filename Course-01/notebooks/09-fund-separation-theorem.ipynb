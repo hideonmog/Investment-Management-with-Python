{
 "cells": [
  {
   "cell_type": "markdown",
   "metadata": {},
   "source": [
    "# Fund Separation Theorem and The Capital Market Line\n",
    "\n",
    "### Capital Market Line\n",
    "\n",
    "The efficent frontier dramtically changes shape when a risk-free asset is introduced. In a normal Markowitz efficient frontier we are trying to find the set of portfolios which have the greatest return for a given or target volatility. When ther are only risky assets we observe the curved shape we have seen previously. When we introduce a risk-free asset the amount of feasible portfolios increases. Any portfolio that lies on a straight line which goes from a risk-free asset to any risky portfolio is a feasible portfolio. These portfolios are essentially holdings of the risk-free asset in one hand and the risky portfolio in the other. What we want to do is increase the return to risk ratio given these new portfolios involving the risk-free asset. We can maximise the slope of the straight line till it is tangential with the efficient frontier, this gives us the tangency portfolio.\n",
    "\n",
    "The straight line is called the capital market line and the tangency portfolio is also known as the maximum sharpe ratio (MSR) portfolio. The naximum slope of the capital line is the maximum sharpe ratio. Investors generally like to hold a risk-free asset and the MSR portfolio associated with that risk-free asset. This combination gives you the highest return per unit risk given all the assets. \n",
    "\n",
    "A special property of the maximum sharpe ratio portfolio is that is contains no exposure to unrewarded risks, only systematic risks. \n",
    "\n",
    "### Maximum Sharpe Ratio Portfolio \n",
    "\n",
    "The tangency portfolio is the portfolio that maximises the sharpe ratio and is given by the following equation:\n",
    "\n",
    "$$ {SR}_p = \\frac{\\mu_p - r_f}{\\sigma_p} = \\frac{\\sum_{i=1}^N w_i\\mu_i - r_f}{\\sqrt{\\sum_{i,j=1}^Nw_iw_j\\sigma_{ij}}}.$$\n",
    "\n",
    "As an aside correlation between two assset is given by the covariance divided by the product of the volatilities\n",
    "\n",
    "$$\\rho_{ij} = \\frac{\\sigma_{ij}}{\\sigma_i\\sigma_j}.$$"
   ]
  },
  {
   "cell_type": "markdown",
   "metadata": {},
   "source": [
    "# Lab Session - Locating the Max Sharpe Ratio Portfolio"
   ]
  },
  {
   "cell_type": "code",
   "execution_count": 22,
   "metadata": {},
   "outputs": [
    {
     "name": "stdout",
     "output_type": "stream",
     "text": [
      "The autoreload extension is already loaded. To reload it, use:\n",
      "  %reload_ext autoreload\n"
     ]
    }
   ],
   "source": [
    "import pandas as pd\n",
    "import numpy as np\n",
    "import edhec_risk_kit as erk\n",
    "import scipy.stats\n",
    "\n",
    "%load_ext autoreload\n",
    "%autoreload 2"
   ]
  },
  {
   "cell_type": "code",
   "execution_count": 4,
   "metadata": {},
   "outputs": [],
   "source": [
    "ind = erk.get_ind_returns()\n",
    "er = erk.annualise_rets(ind['1996':'2000'], 12)\n",
    "cov = ind['1996':'2000'].cov()"
   ]
  },
  {
   "cell_type": "code",
   "execution_count": 9,
   "metadata": {},
   "outputs": [],
   "source": [
    "def msr(riskfree_rate, er, cov):\n",
    "    '''\n",
    "    Risk-Free Rate -> W\n",
    "    '''\n",
    "    n = er.shape[0]\n",
    "    init_guess = np.repeat(1/n, n)\n",
    "    bounds = ((0.0, 1.0), ) * n\n",
    "    weights_sum_to_1 = {\n",
    "        'type': 'eq',\n",
    "        'fun': lambda weights: np.sum(weights) - 1\n",
    "    }\n",
    "    def neg_sharpe_ratio(weights, riskfree_rate, er, cov):\n",
    "        '''\n",
    "        Returns the negative of the sharpe ratio given weights\n",
    "        '''\n",
    "        r = erk.portfolio_return(weights, er)\n",
    "        vol = erk.portfolio_vol(weights, cov)\n",
    "        return -(r - riskfree_rate)/vol\n",
    "    results = scipy.optimize.minimize(neg_sharpe_ratio, init_guess,\n",
    "                        args = (riskfree_rate, er, cov, ), method = 'SLSQP',\n",
    "                        options = {'disp': False},\n",
    "                        constraints = (weights_sum_to_1),\n",
    "                        bounds = bounds\n",
    "                        )\n",
    "    return results.x"
   ]
  },
  {
   "cell_type": "code",
   "execution_count": 21,
   "metadata": {},
   "outputs": [
    {
     "data": {
      "text/plain": [
       "[<matplotlib.lines.Line2D at 0x160903cd0>]"
      ]
     },
     "execution_count": 21,
     "metadata": {},
     "output_type": "execute_result"
    },
    {
     "data": {
      "image/png": "[encoded data removed]",
      "text/plain": [
       "<Figure size 432x288 with 1 Axes>"
      ]
     },
     "metadata": {
      "needs_background": "light"
     },
     "output_type": "display_data"
    }
   ],
   "source": [
    "ax = erk.plot_ef(20, er, cov)\n",
    "ax.set_xlim(left = 0)\n",
    "\n",
    "rf = 0.1\n",
    "w_msr = msr(rf, er, cov)\n",
    "r_msr = erk.portfolio_return(w_msr, er)\n",
    "vol_msr = erk.portfolio_vol(w_msr, cov)\n",
    "\n",
    "# add capital market line\n",
    "cml_x = [0, vol_msr]\n",
    "cml_y = [rf, r_msr]\n",
    "ax.plot(cml_x, cml_y, color = 'green', marker = 'o', linestyle = 'dashed')"
   ]
  },
  {
   "cell_type": "code",
   "execution_count": 28,
   "metadata": {},
   "outputs": [
    {
     "data": {
      "text/plain": [
       "<AxesSubplot:xlabel='Volatility'>"
      ]
     },
     "execution_count": 28,
     "metadata": {},
     "output_type": "execute_result"
    },
    {
     "data": {
      "image/png": "[encoded data removed]",
      "text/plain": [
       "<Figure size 432x288 with 1 Axes>"
      ]
     },
     "metadata": {
      "needs_background": "light"
     },
     "output_type": "display_data"
    }
   ],
   "source": [
    "erk.plot_ef(20, er, cov, show_cml = True, riskfree_rate = 0.1)"
   ]
  }
 ],
 "metadata": {
  "kernelspec": {
   "display_name": "Python 3.10.2 ('Investment-Management-with-Python-3feIDhEi')",
   "language": "python",
   "name": "python3"
  },
  "language_info": {
   "codemirror_mode": {
    "name": "ipython",
    "version": 3
   },
   "file_extension": ".py",
   "mimetype": "text/x-python",
   "name": "python",
   "nbconvert_exporter": "python",
   "pygments_lexer": "ipython3",
   "version": "3.10.2"
  },
  "orig_nbformat": 4,
  "vscode": {
   "interpreter": {
    "hash": "5177ea2b85ad9f85adfeb4d69aa2ac09b0af5e9e42cc7bf37df3babaebb16599"
   }
  }
 },
 "nbformat": 4,
 "nbformat_minor": 2
}
