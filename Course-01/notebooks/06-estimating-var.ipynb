{
 "cells": [
  {
   "cell_type": "markdown",
   "metadata": {},
   "source": [
    "# Estimating VaR\n",
    "\n",
    "## Methods for Computing VaR\n",
    "\n",
    "There are at least four standard methods for caluclating VaR:\n",
    "\n",
    "1. Historical (non parametric)\n",
    "2. Variance-Covariance (parametric gaussian)\n",
    "3. Parametric non gaussian \n",
    "4. Cornish-Fisher (semi-parametric)\n",
    "\n",
    "### Historical Methodology \n",
    "\n",
    "Calculation of VaR based on the distribution of historical changes in the value of the current portfolio under market proces above the specified historical observation window. \n",
    "\n",
    "In this methodology there no assumptions or models used, keeping the model risk low. However, because the methodology solely relies on historical data it means that there is a high sample risk.\n",
    "\n",
    "### Parametric Gaussian Methodology \n",
    "\n",
    "Calculation of VaR based on portfolio volatility, i.e., on volatilities and correlations of components. This method assumes a gaussian distribution and is what makes it parametric. We assume something about the distribution and then focus on estimating parameters of that assumption. In this methodology we only need to estimate the mean and volatility of the distribution.\n",
    "\n",
    "Consider $Z_\\alpha$ the $\\alpha$-quantile of the standard normal distribution. For example $Z_\\alpha = -1.65$ at ~5%.\n",
    "\n",
    "We relate $Z_\\alpha$ and $\\alpha$ via the following equation\n",
    "\n",
    "$$\\int^{Z_\\alpha}_{- \\infty} \\frac{1}{\\sigma \\sqrt{2 \\pi}} \\exp \\left (\\frac{-x^2}{2\\sigma^2}\\right) \\mathop{\\mathrm{d}x} = \\alpha.$$\n",
    "\n",
    "$Z_\\alpha$ is the outcome which is such that there is only $\\alpha$ percent chance to get below that quantity.\n",
    "\n",
    "We then work in the normalised distribution of returns, so if asset returns are actually normally distributed we get the standard normal distribution for which we know the behaviour of at certain $\\alpha$ confidence levels.\n",
    "\n",
    "$$\\Pr \\left (\\frac{R_p - \\mu_p}{\\sigma_p} \\leq z_{\\alpha} \\right ) = \\alpha \\Leftrightarrow \\Pr \\left (R \\leq \\mu_p + z_{\\alpha}\\sigma_p\\right) = \\alpha$$\n",
    "\n",
    "Finally, the VaR is given by\n",
    "\n",
    "$$VaR_\\alpha = -(\\mu + z_\\alpha\\sigma),$$\n",
    "\n",
    "where $\\mu$ and $\\sigma$ are simply our estimates for the mean and volatility respectively.\n",
    "\n",
    "Assuming that asset return distributions are normal may understate the risk. We know previously that asset return distribution are generally not anywhere close to being normally distributed. This methodology brings a greater model risk due to this.\n",
    "\n",
    "### Parametric non Gaussian Methodology\n",
    "\n",
    "Parametric is good becuase it mitigates the problem of estimation risk but at the cost of model risk. In this methodolgy we will still parametrise but assume a non gaussian distribution of which there are many to choose from.\n",
    "\n",
    "### Cornish-Fisher (semi-parametric) Methodology\n",
    "\n",
    "An alternative to the parametric approach exists; semi-parametrick. The Cornish-Fisher method allows for a 'best of both worlds' method which does not force you to assume a model for your distribtion. The Cornish-Fisher expansion (1937), shown below, is used to relate the $\\alpha$-quantile of non gaussian distributions with to the $\\alpha$-quantile of a gaussian distribution.\n",
    "\n",
    "$$\\tilde{z}_\\alpha = z_\\alpha + \\frac16 \\left ( z^{2}_{\\alpha} - 1 \\right )S + \\frac{1}{24} \\left ( z^{3}_{\\alpha} - 3z_\\alpha \\right )\\left(K-3\\right) - \\frac{1}{36} \\left ( 2z^{3}_{\\alpha} - 5z_\\alpha \\right )S^2$$\n",
    "\n",
    "$\\tilde{z}_\\alpha$ is the $\\alpha$-quantile of the non gaussian distribution and it is expressed in terms of $z_\\alpha$ which is the $\\alpha$-quantile of the guassian distribution. $S$ and $K$ as we have seen before are the skewness and excess kurtosis of the non gaussian distribution.\n",
    "\n",
    "In the non gaussian case, skewness is 0 and the kurtosis is 3, meaning that the Cornish-Fisher expansion will just return the guassian distribution on the rhs. In this case we would find the same VaR as if we were just using the gaussian method. In the many cases where skewness is typically negative and the kurtosis is higher than 3, the Cornish-Fisher method will give you a VaR which is generally higher than the gaussian estimate. This tells us that there is a greater probability of getting a negative outcome.\n",
    "\n",
    "VaR in the non gaussian setting is given by\n",
    "\n",
    "$$VaR_{mod}\\left (1 -\\alpha\\right) = -\\left(\\mu + \\tilde{z}_\\alpha \\sigma\\right).$$"
   ]
  },
  {
   "cell_type": "markdown",
   "metadata": {},
   "source": [
    "# Lab Session - Semi Deviation, VaR and CVaR\n",
    "\n",
    "## Downside!"
   ]
  },
  {
   "cell_type": "code",
   "execution_count": 38,
   "metadata": {},
   "outputs": [
    {
     "name": "stdout",
     "output_type": "stream",
     "text": [
      "The autoreload extension is already loaded. To reload it, use:\n",
      "  %reload_ext autoreload\n"
     ]
    }
   ],
   "source": [
    "import pandas as pd\n",
    "import numpy as np\n",
    "import edhec_risk_kit as erk\n",
    "\n",
    "%load_ext autoreload\n",
    "%autoreload 2"
   ]
  },
  {
   "cell_type": "code",
   "execution_count": 2,
   "metadata": {},
   "outputs": [],
   "source": [
    "hfi = erk.get_hfi_returns()"
   ]
  },
  {
   "cell_type": "markdown",
   "metadata": {},
   "source": [
    "### Semideviation"
   ]
  },
  {
   "cell_type": "code",
   "execution_count": 3,
   "metadata": {},
   "outputs": [
    {
     "data": {
      "text/plain": [
       "Convertible Arbitrage     0.016536\n",
       "CTA Global                0.023290\n",
       "Distressed Securities     0.017009\n",
       "Emerging Markets          0.032476\n",
       "Equity Market Neutral     0.008115\n",
       "Event Driven              0.016712\n",
       "Fixed Income Arbitrage    0.011517\n",
       "Global Macro              0.014694\n",
       "Long/Short Equity         0.019897\n",
       "Merger Arbitrage          0.009600\n",
       "Relative Value            0.011462\n",
       "Short Selling             0.047655\n",
       "Funds Of Funds            0.015536\n",
       "dtype: float64"
      ]
     },
     "execution_count": 3,
     "metadata": {},
     "output_type": "execute_result"
    }
   ],
   "source": [
    "hfi.std(ddof = 0)"
   ]
  },
  {
   "cell_type": "code",
   "execution_count": 7,
   "metadata": {},
   "outputs": [
    {
     "data": {
      "text/plain": [
       "Convertible Arbitrage     0.019540\n",
       "CTA Global                0.012443\n",
       "Distressed Securities     0.015185\n",
       "Emerging Markets          0.028039\n",
       "Equity Market Neutral     0.009566\n",
       "Event Driven              0.015429\n",
       "Fixed Income Arbitrage    0.017763\n",
       "Global Macro              0.006579\n",
       "Long/Short Equity         0.014051\n",
       "Merger Arbitrage          0.008875\n",
       "Relative Value            0.012244\n",
       "Short Selling             0.027283\n",
       "Funds Of Funds            0.012122\n",
       "dtype: float64"
      ]
     },
     "execution_count": 7,
     "metadata": {},
     "output_type": "execute_result"
    }
   ],
   "source": [
    "# filter for returns less than 0 as we are only interested in the volatility of negative returns\n",
    "hfi[hfi<0].std(ddof = 0)"
   ]
  },
  {
   "cell_type": "code",
   "execution_count": 10,
   "metadata": {},
   "outputs": [
    {
     "data": {
      "text/plain": [
       "Convertible Arbitrage     0.019540\n",
       "CTA Global                0.012443\n",
       "Distressed Securities     0.015185\n",
       "Emerging Markets          0.028039\n",
       "Equity Market Neutral     0.009566\n",
       "Event Driven              0.015429\n",
       "Fixed Income Arbitrage    0.017763\n",
       "Global Macro              0.006579\n",
       "Long/Short Equity         0.014051\n",
       "Merger Arbitrage          0.008875\n",
       "Relative Value            0.012244\n",
       "Short Selling             0.027283\n",
       "Funds Of Funds            0.012122\n",
       "dtype: float64"
      ]
     },
     "execution_count": 10,
     "metadata": {},
     "output_type": "execute_result"
    }
   ],
   "source": [
    "# add function to edhec risk kit\n",
    "erk.semideviation(hfi)"
   ]
  },
  {
   "cell_type": "markdown",
   "metadata": {},
   "source": [
    "## VaR and CVaR\n",
    "\n",
    "### Historic VaR"
   ]
  },
  {
   "cell_type": "code",
   "execution_count": 13,
   "metadata": {},
   "outputs": [
    {
     "data": {
      "text/plain": [
       "array([-0.01576, -0.03169, -0.01966, -0.04247, -0.00814, -0.02535,\n",
       "       -0.00787, -0.01499, -0.02598, -0.01047, -0.01174, -0.06783,\n",
       "       -0.02047])"
      ]
     },
     "execution_count": 13,
     "metadata": {},
     "output_type": "execute_result"
    }
   ],
   "source": [
    "np.percentile(hfi, 5, axis = 0)"
   ]
  },
  {
   "cell_type": "code",
   "execution_count": 19,
   "metadata": {},
   "outputs": [],
   "source": [
    "def var_historic(r, level = 5):\n",
    "    '''\n",
    "    VaR Historic\n",
    "    '''\n",
    "    if isinstance(r, pd.DataFrame):\n",
    "        return r.aggregate(var_historic, level = level)\n",
    "    elif isinstance(r, pd.Series):\n",
    "        return -np.percentile(r, level)\n",
    "    else:\n",
    "        raise TypeError('Expected r to be Series or DataFrame')"
   ]
  },
  {
   "cell_type": "code",
   "execution_count": 20,
   "metadata": {},
   "outputs": [
    {
     "data": {
      "text/plain": [
       "Convertible Arbitrage     0.01576\n",
       "CTA Global                0.03169\n",
       "Distressed Securities     0.01966\n",
       "Emerging Markets          0.04247\n",
       "Equity Market Neutral     0.00814\n",
       "Event Driven              0.02535\n",
       "Fixed Income Arbitrage    0.00787\n",
       "Global Macro              0.01499\n",
       "Long/Short Equity         0.02598\n",
       "Merger Arbitrage          0.01047\n",
       "Relative Value            0.01174\n",
       "Short Selling             0.06783\n",
       "Funds Of Funds            0.02047\n",
       "dtype: float64"
      ]
     },
     "execution_count": 20,
     "metadata": {},
     "output_type": "execute_result"
    }
   ],
   "source": [
    "var_historic(hfi)"
   ]
  },
  {
   "cell_type": "code",
   "execution_count": 22,
   "metadata": {},
   "outputs": [
    {
     "data": {
      "text/plain": [
       "Convertible Arbitrage     0.01576\n",
       "CTA Global                0.03169\n",
       "Distressed Securities     0.01966\n",
       "Emerging Markets          0.04247\n",
       "Equity Market Neutral     0.00814\n",
       "Event Driven              0.02535\n",
       "Fixed Income Arbitrage    0.00787\n",
       "Global Macro              0.01499\n",
       "Long/Short Equity         0.02598\n",
       "Merger Arbitrage          0.01047\n",
       "Relative Value            0.01174\n",
       "Short Selling             0.06783\n",
       "Funds Of Funds            0.02047\n",
       "dtype: float64"
      ]
     },
     "execution_count": 22,
     "metadata": {},
     "output_type": "execute_result"
    }
   ],
   "source": [
    "# add function to edehc risk kit\n",
    "erk.var_historic(hfi)"
   ]
  },
  {
   "cell_type": "markdown",
   "metadata": {},
   "source": [
    "### Gaussian VaR"
   ]
  },
  {
   "cell_type": "code",
   "execution_count": 23,
   "metadata": {},
   "outputs": [],
   "source": [
    "from scipy.stats import norm "
   ]
  },
  {
   "cell_type": "code",
   "execution_count": 29,
   "metadata": {},
   "outputs": [
    {
     "data": {
      "text/plain": [
       "-1.6448536269514729"
      ]
     },
     "execution_count": 29,
     "metadata": {},
     "output_type": "execute_result"
    }
   ],
   "source": [
    "# returns z scores of normal dist given percent level\n",
    "z = norm.ppf(0.05)\n",
    "z"
   ]
  },
  {
   "cell_type": "code",
   "execution_count": 33,
   "metadata": {},
   "outputs": [
    {
     "data": {
      "text/plain": [
       "Convertible Arbitrage     0.021691\n",
       "CTA Global                0.034235\n",
       "Distressed Securities     0.021032\n",
       "Emerging Markets          0.047164\n",
       "Equity Market Neutral     0.008850\n",
       "Event Driven              0.021144\n",
       "Fixed Income Arbitrage    0.014579\n",
       "Global Macro              0.018766\n",
       "Long/Short Equity         0.026397\n",
       "Merger Arbitrage          0.010435\n",
       "Relative Value            0.013061\n",
       "Short Selling             0.080086\n",
       "Funds Of Funds            0.021292\n",
       "dtype: float64"
      ]
     },
     "execution_count": 33,
     "metadata": {},
     "output_type": "execute_result"
    }
   ],
   "source": [
    "-(hfi.mean() + z*hfi.std(ddof = 0))"
   ]
  },
  {
   "cell_type": "code",
   "execution_count": 36,
   "metadata": {},
   "outputs": [
    {
     "data": {
      "text/plain": [
       "Convertible Arbitrage     0.021691\n",
       "CTA Global                0.034235\n",
       "Distressed Securities     0.021032\n",
       "Emerging Markets          0.047164\n",
       "Equity Market Neutral     0.008850\n",
       "Event Driven              0.021144\n",
       "Fixed Income Arbitrage    0.014579\n",
       "Global Macro              0.018766\n",
       "Long/Short Equity         0.026397\n",
       "Merger Arbitrage          0.010435\n",
       "Relative Value            0.013061\n",
       "Short Selling             0.080086\n",
       "Funds Of Funds            0.021292\n",
       "dtype: float64"
      ]
     },
     "execution_count": 36,
     "metadata": {},
     "output_type": "execute_result"
    }
   ],
   "source": [
    "# add function to edhec risk kit\n",
    "erk.var_gaussian(hfi)"
   ]
  },
  {
   "cell_type": "markdown",
   "metadata": {},
   "source": [
    "### Cornish-Fisher VaR"
   ]
  },
  {
   "cell_type": "code",
   "execution_count": 42,
   "metadata": {},
   "outputs": [
    {
     "data": {
      "text/plain": [
       "Convertible Arbitrage     0.029494\n",
       "CTA Global                0.033120\n",
       "Distressed Securities     0.026183\n",
       "Emerging Markets          0.054672\n",
       "Equity Market Neutral     0.012109\n",
       "Event Driven              0.026763\n",
       "Fixed Income Arbitrage    0.024598\n",
       "Global Macro              0.014115\n",
       "Long/Short Equity         0.028049\n",
       "Merger Arbitrage          0.013240\n",
       "Relative Value            0.017576\n",
       "Short Selling             0.067213\n",
       "Funds Of Funds            0.021652\n",
       "dtype: float64"
      ]
     },
     "execution_count": 42,
     "metadata": {},
     "output_type": "execute_result"
    }
   ],
   "source": [
    "# add modified parameter to var_gaussian for cornish fisher method\n",
    "erk.var_gaussian(hfi, modified = True)"
   ]
  },
  {
   "cell_type": "code",
   "execution_count": 43,
   "metadata": {},
   "outputs": [
    {
     "data": {
      "text/plain": [
       "<AxesSubplot:title={'center':'EDHEC Hedge Fund Indices: VaR'}>"
      ]
     },
     "execution_count": 43,
     "metadata": {},
     "output_type": "execute_result"
    },
    {
     "data": {
      "image/png": "[encoded data removed]",
      "text/plain": [
       "<Figure size 432x288 with 1 Axes>"
      ]
     },
     "metadata": {
      "needs_background": "light"
     },
     "output_type": "display_data"
    }
   ],
   "source": [
    "var_list = [erk.var_gaussian(hfi), erk.var_gaussian(hfi, modified = True), erk.var_historic(hfi)]\n",
    "comparison = pd.concat(var_list, axis = 1)\n",
    "comparison.columns = ['Gaussian', 'Cornish-Fisher', 'Historic']\n",
    "comparison.plot.bar(title = 'EDHEC Hedge Fund Indices: VaR')"
   ]
  },
  {
   "cell_type": "markdown",
   "metadata": {},
   "source": [
    "## Beyond VaR aka CVaR\n",
    "\n",
    "CvaR is just nothing more than the average of all the returns which are worse than the VaR"
   ]
  },
  {
   "cell_type": "code",
   "execution_count": 45,
   "metadata": {},
   "outputs": [
    {
     "data": {
      "text/plain": [
       "Convertible Arbitrage     0.036550\n",
       "CTA Global                0.041264\n",
       "Distressed Securities     0.036429\n",
       "Emerging Markets          0.072364\n",
       "Equity Market Neutral     0.016879\n",
       "Event Driven              0.038336\n",
       "Fixed Income Arbitrage    0.028257\n",
       "Global Macro              0.020629\n",
       "Long/Short Equity         0.041943\n",
       "Merger Arbitrage          0.019143\n",
       "Relative Value            0.024650\n",
       "Short Selling             0.096821\n",
       "Funds Of Funds            0.033207\n",
       "dtype: float64"
      ]
     },
     "execution_count": 45,
     "metadata": {},
     "output_type": "execute_result"
    }
   ],
   "source": [
    "erk.cvar_historic(hfi)"
   ]
  },
  {
   "cell_type": "code",
   "execution_count": 46,
   "metadata": {},
   "outputs": [
    {
     "data": {
      "text/plain": [
       "Convertible Arbitrage     0.049687\n",
       "CTA Global                0.043527\n",
       "Distressed Securities     0.040864\n",
       "Emerging Markets          0.083820\n",
       "Equity Market Neutral     0.018292\n",
       "Event Driven              0.037440\n",
       "Fixed Income Arbitrage    0.052500\n",
       "Global Macro              0.025783\n",
       "Long/Short Equity         0.043162\n",
       "Merger Arbitrage          0.019143\n",
       "Relative Value            0.026733\n",
       "Short Selling             0.106620\n",
       "Funds Of Funds            0.034185\n",
       "dtype: float64"
      ]
     },
     "execution_count": 46,
     "metadata": {},
     "output_type": "execute_result"
    }
   ],
   "source": [
    "erk.cvar_gaussian(hfi)"
   ]
  },
  {
   "cell_type": "code",
   "execution_count": 47,
   "metadata": {},
   "outputs": [
    {
     "data": {
      "text/plain": [
       "Convertible Arbitrage     0.064320\n",
       "CTA Global                0.042000\n",
       "Distressed Securities     0.055600\n",
       "Emerging Markets          0.105450\n",
       "Equity Market Neutral     0.023814\n",
       "Event Driven              0.041809\n",
       "Fixed Income Arbitrage    0.052500\n",
       "Global Macro              0.019244\n",
       "Long/Short Equity         0.044558\n",
       "Merger Arbitrage          0.023400\n",
       "Relative Value            0.030767\n",
       "Short Selling             0.096821\n",
       "Funds Of Funds            0.034185\n",
       "dtype: float64"
      ]
     },
     "execution_count": 47,
     "metadata": {},
     "output_type": "execute_result"
    }
   ],
   "source": [
    "erk.cvar_gaussian(hfi, modified = True)"
   ]
  }
 ],
 "metadata": {
  "kernelspec": {
   "display_name": "Python 3.10.2 ('Investment-Management-with-Python-3feIDhEi')",
   "language": "python",
   "name": "python3"
  },
  "language_info": {
   "codemirror_mode": {
    "name": "ipython",
    "version": 3
   },
   "file_extension": ".py",
   "mimetype": "text/x-python",
   "name": "python",
   "nbconvert_exporter": "python",
   "pygments_lexer": "ipython3",
   "version": "3.10.2"
  },
  "orig_nbformat": 4,
  "vscode": {
   "interpreter": {
    "hash": "5177ea2b85ad9f85adfeb4d69aa2ac09b0af5e9e42cc7bf37df3babaebb16599"
   }
  }
 },
 "nbformat": 4,
 "nbformat_minor": 2
}
