{
 "cells": [
  {
   "cell_type": "markdown",
   "metadata": {},
   "source": [
    "# Deviations From Normality\n",
    "\n",
    "Actual time series returns on different asset classes are actually not normally distributed in such a way that a normal assumption is just a simplifying assumption.\n",
    "\n",
    "When we assume a normal distribution, what we see is that there's a very little probability that asset returns take on very large positive values or very large negative values. This is not actual stock returns, but simulated, normally distributed stock returns. When we look at actual time series data of, for example, daily stock returns of an asset we see that in reality larger changes are more frequent compared to the gaussian assumption.\n",
    "\n",
    "To do justice to the actual shape of the distribution we need to move beyond just mean and variance and consider higher order moments such as skewness and kurtosis. Skewness is a measure of the assymetry of the distribution. In a normal/gaussian distribution the distribution is symmetric so the probability of getting a value higher or lower than the mean is exactly the same.\n",
    "\n",
    "Skewness can be computed using the third order moment of the distribution normalised by the standard deviation cubed in the following equation\n",
    "\n",
    "$$S(R) = \\frac{E[(R - E(R))^3]}{[Var(R)]^{3/2}}.$$\n",
    "\n",
    "Kurtosis is a measure of the thickness of the tail of the distribution and is given by\n",
    "\n",
    "$$K(R) = \\frac{E[(R - E(R))^4]}{[Var(R)]^{2}}.$$\n",
    "\n",
    "The kurtosis of a normal distribution is 3, a distribution with a kurtosis higher than 3 is described as a fat tailed distribution.\n",
    "\n",
    "When actual hedge-fund return distributions are examined we can see that they often have a negative skewness and a high excess kurtosis (kurtosis greater than 3). Negative skewness implies that the few low scores tend to shift the mean to the left. As a result, if the mean is lower than the median, then the probability of an outcome above the mean is higher than the probability of an outcome below the mean. However, using volatility as a risk estimate for a negatively skew distribution may lead to underestimate the tail risk associated to strong negative returns. This in conjuction with the high excess kurtosis shows that most actual return distributions are severely non-normal.\n",
    "\n",
    "There exists many hypothesis test to examine whether there is a statistically significant difference between a given return distribution and a gaussian/normal distribution. A commonly used one is called the Jarque-Bera test and it is given by\n",
    "\n",
    "$$JB =\\frac{n}{6} \\left(S^2 - \\frac{(K-3)^2}{4} \\right) \\to Chi-squared(2),$$\n",
    "\n",
    "where S is skewness and K is excess kurtosis."
   ]
  },
  {
   "cell_type": "markdown",
   "metadata": {},
   "source": [
    "# Lab Session - Building Modules"
   ]
  },
  {
   "cell_type": "code",
   "execution_count": 6,
   "metadata": {},
   "outputs": [],
   "source": [
    "# create test .py file and import\n",
    "import hello as h "
   ]
  },
  {
   "cell_type": "code",
   "execution_count": 2,
   "metadata": {},
   "outputs": [
    {
     "data": {
      "text/plain": [
       "'Hello Mog'"
      ]
     },
     "execution_count": 2,
     "metadata": {},
     "output_type": "execute_result"
    }
   ],
   "source": [
    "# access file\n",
    "h.message"
   ]
  },
  {
   "cell_type": "code",
   "execution_count": 3,
   "metadata": {},
   "outputs": [
    {
     "data": {
      "text/plain": [
       "'Hello Mog'"
      ]
     },
     "execution_count": 3,
     "metadata": {},
     "output_type": "execute_result"
    }
   ],
   "source": [
    "# change contents of file and try the same command\n",
    "h.message"
   ]
  },
  {
   "cell_type": "code",
   "execution_count": 4,
   "metadata": {},
   "outputs": [],
   "source": [
    "import hello as h "
   ]
  },
  {
   "cell_type": "code",
   "execution_count": 7,
   "metadata": {},
   "outputs": [
    {
     "data": {
      "text/plain": [
       "'Hello Mog'"
      ]
     },
     "execution_count": 7,
     "metadata": {},
     "output_type": "execute_result"
    }
   ],
   "source": [
    "# even though we re-imported the module python only reads the first import \n",
    "h.message"
   ]
  },
  {
   "cell_type": "code",
   "execution_count": 9,
   "metadata": {},
   "outputs": [],
   "source": [
    "# use magic command to use the auto reload extension\n",
    "%load_ext autoreload"
   ]
  },
  {
   "cell_type": "code",
   "execution_count": 11,
   "metadata": {},
   "outputs": [],
   "source": [
    "# option 2 makes it so python reloads every import every time anything changes\n",
    "%autoreload 2"
   ]
  },
  {
   "cell_type": "code",
   "execution_count": 13,
   "metadata": {},
   "outputs": [
    {
     "data": {
      "text/plain": [
       "'Hello Mog'"
      ]
     },
     "execution_count": 13,
     "metadata": {},
     "output_type": "execute_result"
    }
   ],
   "source": [
    "# auto reload didnt actually see a change yet\n",
    "h.message"
   ]
  },
  {
   "cell_type": "code",
   "execution_count": 15,
   "metadata": {},
   "outputs": [
    {
     "data": {
      "text/plain": [
       "'Hello Hideonmog and Mog'"
      ]
     },
     "execution_count": 15,
     "metadata": {},
     "output_type": "execute_result"
    }
   ],
   "source": [
    "# change contents of hello.py again and try to access the file\n",
    "h.message"
   ]
  },
  {
   "cell_type": "code",
   "execution_count": 16,
   "metadata": {},
   "outputs": [],
   "source": [
    "# import newly made module\n",
    "import edhec_risk_kit as erk"
   ]
  },
  {
   "cell_type": "code",
   "execution_count": 17,
   "metadata": {},
   "outputs": [
    {
     "data": {
      "text/html": [
       "<div>\n",
       "<style scoped>\n",
       "    .dataframe tbody tr th:only-of-type {\n",
       "        vertical-align: middle;\n",
       "    }\n",
       "\n",
       "    .dataframe tbody tr th {\n",
       "        vertical-align: top;\n",
       "    }\n",
       "\n",
       "    .dataframe thead th {\n",
       "        text-align: right;\n",
       "    }\n",
       "</style>\n",
       "<table border=\"1\" class=\"dataframe\">\n",
       "  <thead>\n",
       "    <tr style=\"text-align: right;\">\n",
       "      <th></th>\n",
       "      <th>SmallCap</th>\n",
       "      <th>LargeCap</th>\n",
       "    </tr>\n",
       "  </thead>\n",
       "  <tbody>\n",
       "    <tr>\n",
       "      <th>1926-07</th>\n",
       "      <td>-0.0145</td>\n",
       "      <td>0.0329</td>\n",
       "    </tr>\n",
       "    <tr>\n",
       "      <th>1926-08</th>\n",
       "      <td>0.0512</td>\n",
       "      <td>0.0370</td>\n",
       "    </tr>\n",
       "    <tr>\n",
       "      <th>1926-09</th>\n",
       "      <td>0.0093</td>\n",
       "      <td>0.0067</td>\n",
       "    </tr>\n",
       "    <tr>\n",
       "      <th>1926-10</th>\n",
       "      <td>-0.0484</td>\n",
       "      <td>-0.0243</td>\n",
       "    </tr>\n",
       "    <tr>\n",
       "      <th>1926-11</th>\n",
       "      <td>-0.0078</td>\n",
       "      <td>0.0270</td>\n",
       "    </tr>\n",
       "  </tbody>\n",
       "</table>\n",
       "</div>"
      ],
      "text/plain": [
       "         SmallCap  LargeCap\n",
       "1926-07   -0.0145    0.0329\n",
       "1926-08    0.0512    0.0370\n",
       "1926-09    0.0093    0.0067\n",
       "1926-10   -0.0484   -0.0243\n",
       "1926-11   -0.0078    0.0270"
      ]
     },
     "execution_count": 17,
     "metadata": {},
     "output_type": "execute_result"
    }
   ],
   "source": [
    "# test commands\n",
    "returns = erk.get_ffme_returns()\n",
    "returns.head()"
   ]
  },
  {
   "cell_type": "code",
   "execution_count": 19,
   "metadata": {},
   "outputs": [
    {
     "data": {
      "text/plain": [
       "-0.6312068077252386"
      ]
     },
     "execution_count": 19,
     "metadata": {},
     "output_type": "execute_result"
    }
   ],
   "source": [
    "erk.drawdown(returns['SmallCap'])['Drawdown'].min()"
   ]
  },
  {
   "cell_type": "code",
   "execution_count": 21,
   "metadata": {},
   "outputs": [
    {
     "data": {
      "text/plain": [
       "-0.6312068077252386"
      ]
     },
     "execution_count": 21,
     "metadata": {},
     "output_type": "execute_result"
    }
   ],
   "source": [
    "erk.drawdown(returns['1975':]['SmallCap'])['Drawdown'].min()"
   ]
  }
 ],
 "metadata": {
  "kernelspec": {
   "display_name": "Python 3.10.2 ('Investment-Management-with-Python-3feIDhEi')",
   "language": "python",
   "name": "python3"
  },
  "language_info": {
   "codemirror_mode": {
    "name": "ipython",
    "version": 3
   },
   "file_extension": ".py",
   "mimetype": "text/x-python",
   "name": "python",
   "nbconvert_exporter": "python",
   "pygments_lexer": "ipython3",
   "version": "3.10.2"
  },
  "orig_nbformat": 4,
  "vscode": {
   "interpreter": {
    "hash": "5177ea2b85ad9f85adfeb4d69aa2ac09b0af5e9e42cc7bf37df3babaebb16599"
   }
  }
 },
 "nbformat": 4,
 "nbformat_minor": 2
}
