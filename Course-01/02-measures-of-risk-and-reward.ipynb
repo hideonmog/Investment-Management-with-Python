{
 "cells": [
  {
   "cell_type": "markdown",
   "metadata": {},
   "source": [
    "# Measures of Risk and Reward"
   ]
  },
  {
   "cell_type": "markdown",
   "metadata": {},
   "source": [
    "## Volatility - Variance and Standard Deviation\n",
    "\n",
    "Variance is a measure of volitility given by\n",
    "$$\\sigma_R^2 = \\frac{1}{N} \\sum_{i=1}^{N} (R_i - \\bar{R})^2,$$\n",
    "and standard deviation is the square root of variance\n",
    "$$\\sigma_R = \\sqrt{\\sigma_R^2} = \\sqrt{\\frac{1}{N} \\sum_{i=1}^{N} (R_i - \\bar{R})^2},$$\n",
    "where $\\bar{R}$ is the arithmetic mean of the returns.\n"
   ]
  },
  {
   "cell_type": "markdown",
   "metadata": {},
   "source": [
    "## Annualising Volatility\n",
    "\n",
    "We can't directly compare monthly and daily volatility data so we must annualise first.\n",
    "$$\\sigma_{ann} = \\sigma_p \\sqrt{p}$$\n",
    "\n",
    "Example: The standard deviation of a stock's daily return is $0.1\\%$ so the annualised volatility is given by $$0.001 \\times \\sqrt{252} = 1.58\\%.$$"
   ]
  },
  {
   "cell_type": "markdown",
   "metadata": {},
   "source": [
    "## Risk Adjusted Measures\n",
    "\n",
    "If for example two different stocks had a return and volatility percentage over a given period of time we could compare the two by comparing the return on risk ratio:\n",
    "$$\\text{Return on Risk Ratio} =  \\frac{\\text{Return}}{\\text{Volatility}}.$$\n",
    "\n",
    "Instead of this we can calculate a better measure called the Sharpe Ratio. This calculates the return over the risk free rate in ratio with volatility,\n",
    "\n",
    "$$\\text{Sharpe Ratio}(P) = \\frac{R_p - R_f}{\\sigma_p}.$$"
   ]
  }
 ],
 "metadata": {
  "kernelspec": {
   "display_name": "Python 3.10.2 ('Investment-Management-with-Python-3feIDhEi')",
   "language": "python",
   "name": "python3"
  },
  "language_info": {
   "name": "python",
   "version": "3.10.2"
  },
  "orig_nbformat": 4,
  "vscode": {
   "interpreter": {
    "hash": "5177ea2b85ad9f85adfeb4d69aa2ac09b0af5e9e42cc7bf37df3babaebb16599"
   }
  }
 },
 "nbformat": 4,
 "nbformat_minor": 2
}
