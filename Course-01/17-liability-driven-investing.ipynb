{
 "cells": [
  {
   "cell_type": "markdown",
   "metadata": {},
   "source": [
    "# Liability-Driven Investing \n",
    "\n",
    "There's a dual focus in investment management, one is 'greed' and the other is 'fear'. When you're an asset owner you know that you need 'greed' or as we more commonly know it as 'performance', we need this to make sure we are able to finance our liabilities without any or much contribution from stakeholders. However, as an asset owner you are also driven by 'fear' which is the concernt that the value of your assets, even thought you're trying to increase value, actually go down in value. The objective is to increase the funding ratio and the concern is a big sharp decrease in the funding ratio value. These objectives are conflicting with one another, the point is to not try and create a portfolio which does everything because in turn it will be good at nothing. We have reason to believe that these conflicting objectives in investment management are best managed when they are managed separately. So, we will advocate for two portfolios, the first is a performance-seeking portfolio (PSP), focussed on diversification, and efficient acess to risk premia. The second portfolio is the liability-hedging portfolio (LHP), focussed on hedging the impact of risk factors in liabilities.\n",
    "\n",
    "### Formal Liability-Driven Investing (LDI) Model\n",
    "\n",
    "The formal expression for an optimal allocation strategy is given by the folowing:\n",
    "\n",
    "$$\\mathop{\\mathrm{max}}E\\left[u\\left(\\frac{A_T}{L_T}\\right)\\right] \\Rightarrow w^* = \\frac{\\lambda_{PSP}}{\\lambda\\sigma_{PSP}}w^{PSP} + \\beta_{L, LHP}\\left(1-\\frac{1}{\\gamma}\\right)w^{LHP}.$$\n",
    "\n",
    "This equation shows that for one to have the maximum asset value to liability value ratio one must hold two portfolios given by $w^{PSP}$ and $w^{LHP}.$ The PSP focusses on maximising the sharpe ratio and the LHP focusses on liability risk hedging.\n",
    "\n",
    "### Greeks of Liability-Driven Investing\n",
    "\n",
    "$$\\lambda_{PSP} \\text{ is the PSP Sharpe ratio}\\colon\\lambda=0\\Rightarrow\\text{no investment in PSP}$$\n",
    "\n",
    "$$\\beta_{LHP} \\text{ is the beta of liabilities w.r.t LHP}\\colon \\beta = 0\\Rightarrow \\text{no investment in LHP}$$\n",
    "\n",
    "$$\\sigma_{PSP} \\text{ is the PSP volatility}\\colon\\sigma=\\infty\\Rightarrow\\text{no investment in PSP}$$\n",
    "\n",
    "$$\\gamma \\text{ is the risk-aversion}\\colon\\gamma=\\infty\\Rightarrow\\text{no investment in PSP}$$\n"
   ]
  },
  {
   "cell_type": "markdown",
   "metadata": {},
   "source": [
    "# Lab Session - Liability-Driven Investing\n",
    "\n",
    "## GHP Construction with Duration Matching"
   ]
  },
  {
   "cell_type": "code",
   "execution_count": 1,
   "metadata": {},
   "outputs": [],
   "source": [
    "import pandas as pd\n",
    "import numpy as np\n",
    "import edhec_risk_kit as erk    \n",
    "import ipywidgets as widgets\n",
    "\n",
    "%load_ext autoreload\n",
    "%autoreload 2"
   ]
  },
  {
   "cell_type": "code",
   "execution_count": 3,
   "metadata": {},
   "outputs": [
    {
     "data": {
      "text/plain": [
       "1      1.5\n",
       "2      1.5\n",
       "3      1.5\n",
       "4      1.5\n",
       "5      1.5\n",
       "6    101.5\n",
       "dtype: float64"
      ]
     },
     "execution_count": 3,
     "metadata": {},
     "output_type": "execute_result"
    }
   ],
   "source": [
    "erk.bond_cash_flows(3, 100, 0.03, 2)"
   ]
  },
  {
   "cell_type": "code",
   "execution_count": 4,
   "metadata": {},
   "outputs": [
    {
     "data": {
      "text/plain": [
       "1136.7773962036904"
      ]
     },
     "execution_count": 4,
     "metadata": {},
     "output_type": "execute_result"
    }
   ],
   "source": [
    "erk.bond_price(20, 1000, 0.05, 2, 0.04)"
   ]
  },
  {
   "cell_type": "code",
   "execution_count": 5,
   "metadata": {},
   "outputs": [
    {
     "data": {
      "text/plain": [
       "1000.0000000000023"
      ]
     },
     "execution_count": 5,
     "metadata": {},
     "output_type": "execute_result"
    }
   ],
   "source": [
    "erk.bond_price(20, 1000, 0.05, 2, 0.05)"
   ]
  },
  {
   "cell_type": "code",
   "execution_count": 6,
   "metadata": {},
   "outputs": [
    {
     "data": {
      "text/plain": [
       "1492.520291709342"
      ]
     },
     "execution_count": 6,
     "metadata": {},
     "output_type": "execute_result"
    }
   ],
   "source": [
    "erk.bond_price(20, 1000, 0.05, 2, 0.02)"
   ]
  },
  {
   "cell_type": "code",
   "execution_count": 7,
   "metadata": {},
   "outputs": [
    {
     "data": {
      "text/plain": [
       "array([0.01      , 0.01473684, 0.01947368, 0.02421053, 0.02894737,\n",
       "       0.03368421, 0.03842105, 0.04315789, 0.04789474, 0.05263158,\n",
       "       0.05736842, 0.06210526, 0.06684211, 0.07157895, 0.07631579,\n",
       "       0.08105263, 0.08578947, 0.09052632, 0.09526316, 0.1       ])"
      ]
     },
     "execution_count": 7,
     "metadata": {},
     "output_type": "execute_result"
    }
   ],
   "source": [
    "rates = np.linspace(0.01, 0.10, 20)\n",
    "rates"
   ]
  },
  {
   "cell_type": "code",
   "execution_count": 8,
   "metadata": {},
   "outputs": [
    {
     "data": {
      "text/plain": [
       "[1379.7483829333992,\n",
       " 1326.7629283179222,\n",
       " 1276.1632981372743,\n",
       " 1227.833537616068,\n",
       " 1181.6636507727876,\n",
       " 1137.5492793724407,\n",
       " 1095.3913999300185,\n",
       " 1055.0960377089511,\n",
       " 1016.5739967228162,\n",
       " 979.7406048086303,\n",
       " 944.5154728963505,\n",
       " 910.8222676519945,\n",
       " 878.5884967212596,\n",
       " 847.74530584692,\n",
       " 818.2272871767957,\n",
       " 789.9722981198867,\n",
       " 762.9212901465673,\n",
       " 737.0181469646424,\n",
       " 712.209531536784,\n",
       " 688.4447414365]"
      ]
     },
     "execution_count": 8,
     "metadata": {},
     "output_type": "execute_result"
    }
   ],
   "source": [
    "prices = [erk.bond_price(10, 1000, 0.05, 2, rate) for rate in rates]\n",
    "prices"
   ]
  },
  {
   "cell_type": "code",
   "execution_count": 10,
   "metadata": {},
   "outputs": [
    {
     "data": {
      "text/plain": [
       "<AxesSubplot:title={'center':'Price of 10 year Bond with Different Interest Rates'}>"
      ]
     },
     "execution_count": 10,
     "metadata": {},
     "output_type": "execute_result"
    },
    {
     "data": {
      "image/png": "[encoded data removed]",
      "text/plain": [
       "<Figure size 864x432 with 1 Axes>"
      ]
     },
     "metadata": {
      "needs_background": "light"
     },
     "output_type": "display_data"
    }
   ],
   "source": [
    "pd.DataFrame(data = prices, index = rates).plot(title = 'Price of 10 year Bond with Different Interest Rates', legend = False, figsize=(12,6))"
   ]
  },
  {
   "cell_type": "code",
   "execution_count": 11,
   "metadata": {},
   "outputs": [],
   "source": [
    "cf = erk.bond_cash_flows(3, 1000, 0.06, 2)"
   ]
  },
  {
   "cell_type": "code",
   "execution_count": 12,
   "metadata": {},
   "outputs": [
    {
     "data": {
      "text/plain": [
       "1      30.0\n",
       "2      30.0\n",
       "3      30.0\n",
       "4      30.0\n",
       "5      30.0\n",
       "6    1030.0\n",
       "dtype: float64"
      ]
     },
     "execution_count": 12,
     "metadata": {},
     "output_type": "execute_result"
    }
   ],
   "source": [
    "cf"
   ]
  },
  {
   "cell_type": "code",
   "execution_count": 14,
   "metadata": {},
   "outputs": [
    {
     "data": {
      "text/plain": [
       "Float64Index([ 0.970873786407767, 0.9425959091337544, 0.9151416593531595,\n",
       "              0.8884870479156888, 0.8626087843841639, 0.8374842566836542],\n",
       "             dtype='float64')"
      ]
     },
     "execution_count": 14,
     "metadata": {},
     "output_type": "execute_result"
    }
   ],
   "source": [
    "discounts = erk.discount(cf.index, 0.06/2)\n",
    "discounts"
   ]
  },
  {
   "cell_type": "code",
   "execution_count": 15,
   "metadata": {},
   "outputs": [
    {
     "data": {
      "text/plain": [
       "1     29.126214\n",
       "2     28.277877\n",
       "3     27.454250\n",
       "4     26.654611\n",
       "5     25.878264\n",
       "6    862.608784\n",
       "dtype: float64"
      ]
     },
     "execution_count": 15,
     "metadata": {},
     "output_type": "execute_result"
    }
   ],
   "source": [
    "dcf = discounts * cf\n",
    "dcf"
   ]
  },
  {
   "cell_type": "code",
   "execution_count": 18,
   "metadata": {},
   "outputs": [
    {
     "data": {
      "text/plain": [
       "1    0.029126\n",
       "2    0.028278\n",
       "3    0.027454\n",
       "4    0.026655\n",
       "5    0.025878\n",
       "6    0.862609\n",
       "dtype: float64"
      ]
     },
     "execution_count": 18,
     "metadata": {},
     "output_type": "execute_result"
    }
   ],
   "source": [
    "weights = dcf/dcf.sum()\n",
    "weights"
   ]
  },
  {
   "cell_type": "code",
   "execution_count": 20,
   "metadata": {},
   "outputs": [
    {
     "data": {
      "text/plain": [
       "5.579707187194534"
      ]
     },
     "execution_count": 20,
     "metadata": {},
     "output_type": "execute_result"
    }
   ],
   "source": [
    "(cf.index*weights).sum()"
   ]
  },
  {
   "cell_type": "code",
   "execution_count": 21,
   "metadata": {},
   "outputs": [
    {
     "data": {
      "text/plain": [
       "5.579707187194534"
      ]
     },
     "execution_count": 21,
     "metadata": {},
     "output_type": "execute_result"
    }
   ],
   "source": [
    "erk.macaulay_duration(cf, 0.06/2)"
   ]
  },
  {
   "cell_type": "code",
   "execution_count": 22,
   "metadata": {},
   "outputs": [
    {
     "data": {
      "text/plain": [
       "5.579707187194534"
      ]
     },
     "execution_count": 22,
     "metadata": {},
     "output_type": "execute_result"
    }
   ],
   "source": [
    "erk.macaulay_duration(erk.bond_cash_flows(3, 1000, 0.06, 2), 0.06/2)"
   ]
  },
  {
   "cell_type": "markdown",
   "metadata": {},
   "source": [
    "### Duration Matching"
   ]
  },
  {
   "cell_type": "code",
   "execution_count": 23,
   "metadata": {},
   "outputs": [
    {
     "data": {
      "text/plain": [
       "10.960799385088393"
      ]
     },
     "execution_count": 23,
     "metadata": {},
     "output_type": "execute_result"
    }
   ],
   "source": [
    "liabilities = pd.Series(data = [100_000, 100_000], index = [10, 12])\n",
    "erk.macaulay_duration(liabilities, 0.04)"
   ]
  },
  {
   "cell_type": "code",
   "execution_count": 24,
   "metadata": {},
   "outputs": [],
   "source": [
    "md_10 = erk.macaulay_duration(erk.bond_cash_flows(10, 1000, 0.05, 1), 0.04)\n",
    "md_20 = erk.macaulay_duration(erk.bond_cash_flows(20, 1000, 0.05, 1), 0.04)"
   ]
  },
  {
   "cell_type": "code",
   "execution_count": 25,
   "metadata": {},
   "outputs": [
    {
     "data": {
      "text/plain": [
       "(8.190898824083233, 13.544718122145921)"
      ]
     },
     "execution_count": 25,
     "metadata": {},
     "output_type": "execute_result"
    }
   ],
   "source": [
    "md_10, md_20"
   ]
  },
  {
   "cell_type": "markdown",
   "metadata": {},
   "source": [
    "In our case, the fraction in the short duration asset $w_s$, should be such that:\n",
    "\n",
    "$$w_s \\times 8.19+(1-w_s)\\times13.54 = 10.96,$$\n",
    "\n",
    "more generally\n",
    "\n",
    "$$w_sd_s + (1-w_s)d_l = d_t,$$\n",
    "\n",
    "rearranging gives:\n",
    "\n",
    "$$w_s = \\frac{d_l - d_t}{d_l-d_s}.$$\n"
   ]
  },
  {
   "cell_type": "code",
   "execution_count": 26,
   "metadata": {},
   "outputs": [
    {
     "data": {
      "text/plain": [
       "0.48263092069478974"
      ]
     },
     "execution_count": 26,
     "metadata": {},
     "output_type": "execute_result"
    }
   ],
   "source": [
    "short_bond = erk.bond_cash_flows(10, 1000, 0.05, 1)\n",
    "long_bond = erk.bond_cash_flows(20, 1000, 0.05, 1)\n",
    "w_s = erk.match_duration(liabilities, short_bond, long_bond, 0.04)\n",
    "w_s"
   ]
  },
  {
   "cell_type": "code",
   "execution_count": 28,
   "metadata": {},
   "outputs": [
    {
     "data": {
      "text/plain": [
       "10.960799385088393"
      ]
     },
     "execution_count": 28,
     "metadata": {},
     "output_type": "execute_result"
    }
   ],
   "source": [
    "p_short = erk.bond_price(10, 1000, 0.05, 1, 0.04)\n",
    "p_long = erk.bond_price(20, 1000, 0.05, 1, 0.04)\n",
    "a_0 = 130_000\n",
    "p_flows = pd.concat([a_0*w_s*short_bond/p_short, a_0*(1-w_s)*long_bond/p_long])\n",
    "erk.macaulay_duration(p_flows, 0.04)"
   ]
  },
  {
   "cell_type": "code",
   "execution_count": 29,
   "metadata": {},
   "outputs": [
    {
     "data": {
      "text/plain": [
       "10.960799385088393"
      ]
     },
     "execution_count": 29,
     "metadata": {},
     "output_type": "execute_result"
    }
   ],
   "source": [
    "erk.macaulay_duration(liabilities, 0.04)"
   ]
  },
  {
   "cell_type": "code",
   "execution_count": 31,
   "metadata": {},
   "outputs": [
    {
     "data": {
      "text/plain": [
       "0.9998760012192478"
      ]
     },
     "execution_count": 31,
     "metadata": {},
     "output_type": "execute_result"
    }
   ],
   "source": [
    "cfr = erk.funding_ratio(p_flows, liabilities, 0.04)\n",
    "cfr     "
   ]
  },
  {
   "cell_type": "code",
   "execution_count": 32,
   "metadata": {},
   "outputs": [
    {
     "data": {
      "text/plain": [
       "0.9998760012192478"
      ]
     },
     "execution_count": 32,
     "metadata": {},
     "output_type": "execute_result"
    }
   ],
   "source": [
    "cfr"
   ]
  },
  {
   "cell_type": "code",
   "execution_count": 35,
   "metadata": {},
   "outputs": [],
   "source": [
    "rates = np.linspace(0, 0.1, 20)\n",
    "lb_assets = a_0*long_bond/p_long\n",
    "sb_assets = a_0*short_bond/p_short\n",
    "\n",
    "fr_change = pd.DataFrame({\n",
    "    'Long Bond': [erk.funding_ratio(lb_assets, liabilities, r) for r in rates],\n",
    "    'Short Bond': [erk.funding_ratio(sb_assets, liabilities, r) for r in rates],\n",
    "    'Duration Matched Bonds': [erk.funding_ratio(p_flows, liabilities, r) for r in rates]\n",
    "},\n",
    "index = rates)"
   ]
  },
  {
   "cell_type": "code",
   "execution_count": 36,
   "metadata": {},
   "outputs": [
    {
     "data": {
      "text/plain": [
       "<AxesSubplot:title={'center':'Funding Ratios with changes in Interest Rates'}>"
      ]
     },
     "execution_count": 36,
     "metadata": {},
     "output_type": "execute_result"
    },
    {
     "data": {
      "image/png": "[encoded data removed]",
      "text/plain": [
       "<Figure size 864x576 with 1 Axes>"
      ]
     },
     "metadata": {
      "needs_background": "light"
     },
     "output_type": "display_data"
    }
   ],
   "source": [
    "fr_change.plot(title = 'Funding Ratios with changes in Interest Rates', figsize=(12,8))"
   ]
  }
 ],
 "metadata": {
  "kernelspec": {
   "display_name": "Python 3.10.2 ('Investment-Management-with-Python-3feIDhEi')",
   "language": "python",
   "name": "python3"
  },
  "language_info": {
   "codemirror_mode": {
    "name": "ipython",
    "version": 3
   },
   "file_extension": ".py",
   "mimetype": "text/x-python",
   "name": "python",
   "nbconvert_exporter": "python",
   "pygments_lexer": "ipython3",
   "version": "3.10.2"
  },
  "orig_nbformat": 4,
  "vscode": {
   "interpreter": {
    "hash": "5177ea2b85ad9f85adfeb4d69aa2ac09b0af5e9e42cc7bf37df3babaebb16599"
   }
  }
 },
 "nbformat": 4,
 "nbformat_minor": 2
}
