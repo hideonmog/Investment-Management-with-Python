{
 "cells": [
  {
   "cell_type": "markdown",
   "metadata": {},
   "source": [
    "# Beyond LDI (Liability-Driven Investing)\n",
    "\n",
    "### Fund Separation Theorem vs. Fund Interacton Theorem\n",
    "\n",
    "The LDI paradigm suggests that investor welfare should depend on how good each building block is at delivering what is has been designed for. Where in this case the builiding blocks are the PSP (Performance-Seeking Portfolio) and the LHP (Liability-Hedging Portfolio).\n",
    "\n",
    "Intuitively, the interaction between performance and hedging motives is also expected to play an important role. This suggests that we should look beyond the LDI paradigm .\n",
    "\n",
    "### Fund Interaction Theorem\n",
    "\n",
    "The decomposition of investor welfare can be described as follows:\n",
    "\n",
    "$$ IW = \\underbrace{\\frac{\\lambda^2_{\\text{PSP}}}{2\\gamma}}_{\\text{pure perf contribution}} + \\underbrace{\\frac{\\left(1-\\gamma\\right)^2}{2\\gamma}\\sigma^2_L\\rho^2_{L,\\text{LHP}}}_{\\text{pure hedging contribution}} + \\underbrace{\\left(1-\\frac{1}{\\gamma}\\right)\\sigma_L\\rho_{L,\\text{PSP}}\\lambda_{\\text{PSP}}}_{\\text{cross-contribution perf/hedging}}.$$\n",
    "\n",
    "$IW$ is the meaningful measure of investor welfare. The meaningful measure is all about investor happiness in terms of final distribution of the funding ratio, which we hope is as high as possible on average and as low as possible in terms of uncertainty. Investor welfare can be composed into three components as shown above. The first component is related to the Sharpe ratio of the PSP. The second component is all abou the correlation of the LHP with the liabilities. For both compononents one and two and investor is happier with these two components as high as possible as long as everything else stays the same. Along with these two somewhat isolated components we have a third one, this component actually includes the Sharpe ratio of the PSP and the correlation between the PSP and the liabilites, investors would also like to make this as high as possible if everything else would stay the same.\n",
    "\n",
    "### Fund Separation/Interaction in Practice\n",
    "\n",
    "The main insight from the above discussion of investor welfare is that strong benefits can be expected from improving hedging (resp., performance) characteristics of the PSP (resp., LHP). This is true only if the improvement is associated with an exceedingly large opportunity cost in risk-adjusted performance (resp., hedging properties).\n",
    "\n",
    "The net impact whether it is positive or negative depends on a tradeoff between two competing effects. The first effect is the following; if you're able to improve the liability-friendliness of the PSP on can allocate more dollar to the PSP for the same risk budget. However, each dollar invested in the PSP may generate a lower performance.\n",
    "\n",
    "While diversification and hedging are two rather distinct goals, substantial value can be added by aligning PSPs and LHPs."
   ]
  },
  {
   "cell_type": "markdown",
   "metadata": {},
   "source": [
    "# Lab Session - Naive Risk Budgeting Strategies between the PSP and GHP"
   ]
  },
  {
   "cell_type": "code",
   "execution_count": 1,
   "metadata": {},
   "outputs": [],
   "source": [
    "import pandas as pd\n",
    "import numpy as np\n",
    "import edhec_risk_kit as erk\n",
    "import ipywidgets as widgets\n",
    "%load_ext autoreload\n",
    "%autoreload 2"
   ]
  },
  {
   "cell_type": "code",
   "execution_count": 2,
   "metadata": {},
   "outputs": [],
   "source": [
    "def bt_mix(r1, r2, allocator, **kwargs):\n",
    "    '''\n",
    "    Runs a backtest (simulation) of allocating between two sets of returns \n",
    "    r1 and r2 are T x N DataFrames or returns where T is the time step index and N is the number of scenarios.\n",
    "    allocator is a function that takes two sets of returns and allocator specific parameters, and produces \n",
    "    an allocation to the first portfolio (the rest of the money is invested in the GHP) as a T x 1 DataFrame\n",
    "    Returns a T x N DataFrame of the resulting N portfolio scenarios\n",
    "    '''\n",
    "    if not r1.shape == r2.shape:\n",
    "        raise ValueError(\"r1 and r2 need to be the same shape\")\n",
    "\n",
    "    weights = allocator(r1, r2, **kwargs)\n",
    "    if not weights.shape == r1.shape:\n",
    "        raise ValueError(\"Allocator returned weights that do not match r1\")\n",
    "\n",
    "    r_mix = weights*r1 + (1-weights)*r2\n",
    "    return r_mix"
   ]
  },
  {
   "cell_type": "code",
   "execution_count": 3,
   "metadata": {},
   "outputs": [],
   "source": [
    "def fixedmix_allocator(r1, r2, w1, **kwargs):\n",
    "    '''\n",
    "    Produces a time series over T steps of allocation between the PSP and GHP across N scenarios\n",
    "    PSP and GHP are T x N DataFrames that represent the returns of the PSP and GHP such that:\n",
    "    each column is a scenario\n",
    "    each row is the price for a timestep\n",
    "    Returns a T x N DataFrame of PSP weights\n",
    "    '''\n",
    "    return pd.DataFrame(data = w1, index = r1.index, columns = r1.columns)"
   ]
  },
  {
   "cell_type": "code",
   "execution_count": 4,
   "metadata": {},
   "outputs": [],
   "source": [
    "rates, zc_prices = erk.cir(10, 500, b=0.03, r_0=0.03)\n",
    "price_10 = erk.bond_price(10, 100, 0.05, 12, rates)\n",
    "price_30 = erk.bond_price(30, 100, 0.05, 12, rates)\n",
    "rets_10 = erk.bond_total_return(price_10, 100, 0.05, 12)\n",
    "rets_30 = erk.bond_total_return(price_30, 100, 0.05, 12)"
   ]
  },
  {
   "cell_type": "code",
   "execution_count": 5,
   "metadata": {},
   "outputs": [],
   "source": [
    "rets_bonds = erk.bt_mix(rets_10, rets_30, allocator = erk.fixedmix_allocator, w1 = 0.6)\n",
    "mean_rets_bonds =  rets_bonds.mean(axis = \"columns\")"
   ]
  },
  {
   "cell_type": "code",
   "execution_count": 6,
   "metadata": {},
   "outputs": [
    {
     "data": {
      "text/html": [
       "<div>\n",
       "<style scoped>\n",
       "    .dataframe tbody tr th:only-of-type {\n",
       "        vertical-align: middle;\n",
       "    }\n",
       "\n",
       "    .dataframe tbody tr th {\n",
       "        vertical-align: top;\n",
       "    }\n",
       "\n",
       "    .dataframe thead th {\n",
       "        text-align: right;\n",
       "    }\n",
       "</style>\n",
       "<table border=\"1\" class=\"dataframe\">\n",
       "  <thead>\n",
       "    <tr style=\"text-align: right;\">\n",
       "      <th></th>\n",
       "      <th>Annualised Return</th>\n",
       "      <th>Annualised Vol</th>\n",
       "      <th>Skewness</th>\n",
       "      <th>Kurtosis</th>\n",
       "      <th>Cornish-Fisher VaR (5%)</th>\n",
       "      <th>Historic CVaR (5%)</th>\n",
       "      <th>Sharpe Ratio</th>\n",
       "      <th>Max Drawdown</th>\n",
       "    </tr>\n",
       "  </thead>\n",
       "  <tbody>\n",
       "    <tr>\n",
       "      <th>0</th>\n",
       "      <td>0.036375</td>\n",
       "      <td>0.003676</td>\n",
       "      <td>0.692782</td>\n",
       "      <td>4.117728</td>\n",
       "      <td>-0.001467</td>\n",
       "      <td>-0.001279</td>\n",
       "      <td>1.688082</td>\n",
       "      <td>0.0</td>\n",
       "    </tr>\n",
       "  </tbody>\n",
       "</table>\n",
       "</div>"
      ],
      "text/plain": [
       "   Annualised Return  Annualised Vol  Skewness  Kurtosis  \\\n",
       "0           0.036375        0.003676  0.692782  4.117728   \n",
       "\n",
       "   Cornish-Fisher VaR (5%)  Historic CVaR (5%)  Sharpe Ratio  Max Drawdown  \n",
       "0                -0.001467           -0.001279      1.688082           0.0  "
      ]
     },
     "execution_count": 6,
     "metadata": {},
     "output_type": "execute_result"
    }
   ],
   "source": [
    "erk.summary_stats(pd.DataFrame(mean_rets_bonds))"
   ]
  },
  {
   "cell_type": "code",
   "execution_count": 7,
   "metadata": {},
   "outputs": [],
   "source": [
    "price_eq = erk.gbm_updated(n_years=10, n_scenarios=500, mu=0.07, sigma=0.15)\n",
    "rets_eq = price_eq.pct_change().dropna()\n",
    "rets_zc = zc_prices.pct_change().dropna()"
   ]
  },
  {
   "cell_type": "code",
   "execution_count": 8,
   "metadata": {},
   "outputs": [
    {
     "data": {
      "text/html": [
       "<div>\n",
       "<style scoped>\n",
       "    .dataframe tbody tr th:only-of-type {\n",
       "        vertical-align: middle;\n",
       "    }\n",
       "\n",
       "    .dataframe tbody tr th {\n",
       "        vertical-align: top;\n",
       "    }\n",
       "\n",
       "    .dataframe thead th {\n",
       "        text-align: right;\n",
       "    }\n",
       "</style>\n",
       "<table border=\"1\" class=\"dataframe\">\n",
       "  <thead>\n",
       "    <tr style=\"text-align: right;\">\n",
       "      <th></th>\n",
       "      <th>Annualised Return</th>\n",
       "      <th>Annualised Vol</th>\n",
       "      <th>Skewness</th>\n",
       "      <th>Kurtosis</th>\n",
       "      <th>Cornish-Fisher VaR (5%)</th>\n",
       "      <th>Historic CVaR (5%)</th>\n",
       "      <th>Sharpe Ratio</th>\n",
       "      <th>Max Drawdown</th>\n",
       "    </tr>\n",
       "  </thead>\n",
       "  <tbody>\n",
       "    <tr>\n",
       "      <th>0</th>\n",
       "      <td>0.062021</td>\n",
       "      <td>0.004705</td>\n",
       "      <td>0.006502</td>\n",
       "      <td>2.95604</td>\n",
       "      <td>-0.002804</td>\n",
       "      <td>-0.002263</td>\n",
       "      <td>6.623847</td>\n",
       "      <td>0.0</td>\n",
       "    </tr>\n",
       "  </tbody>\n",
       "</table>\n",
       "</div>"
      ],
      "text/plain": [
       "   Annualised Return  Annualised Vol  Skewness  Kurtosis  \\\n",
       "0           0.062021        0.004705  0.006502   2.95604   \n",
       "\n",
       "   Cornish-Fisher VaR (5%)  Historic CVaR (5%)  Sharpe Ratio  Max Drawdown  \n",
       "0                -0.002804           -0.002263      6.623847           0.0  "
      ]
     },
     "execution_count": 8,
     "metadata": {},
     "output_type": "execute_result"
    }
   ],
   "source": [
    "rets_7030b = erk.bt_mix(rets_eq, rets_bonds, allocator = erk.fixedmix_allocator, w1=0.7)\n",
    "rets_7030b_mean = rets_7030b.mean(axis = \"columns\")\n",
    "erk.summary_stats(pd.DataFrame(rets_7030b_mean))"
   ]
  },
  {
   "cell_type": "code",
   "execution_count": 9,
   "metadata": {},
   "outputs": [],
   "source": [
    "summaries = erk.summary_stats(rets_7030b)"
   ]
  },
  {
   "cell_type": "code",
   "execution_count": 10,
   "metadata": {},
   "outputs": [
    {
     "data": {
      "text/html": [
       "<div>\n",
       "<style scoped>\n",
       "    .dataframe tbody tr th:only-of-type {\n",
       "        vertical-align: middle;\n",
       "    }\n",
       "\n",
       "    .dataframe tbody tr th {\n",
       "        vertical-align: top;\n",
       "    }\n",
       "\n",
       "    .dataframe thead th {\n",
       "        text-align: right;\n",
       "    }\n",
       "</style>\n",
       "<table border=\"1\" class=\"dataframe\">\n",
       "  <thead>\n",
       "    <tr style=\"text-align: right;\">\n",
       "      <th></th>\n",
       "      <th>Annualised Return</th>\n",
       "      <th>Annualised Vol</th>\n",
       "      <th>Skewness</th>\n",
       "      <th>Kurtosis</th>\n",
       "      <th>Cornish-Fisher VaR (5%)</th>\n",
       "      <th>Historic CVaR (5%)</th>\n",
       "      <th>Sharpe Ratio</th>\n",
       "      <th>Max Drawdown</th>\n",
       "    </tr>\n",
       "  </thead>\n",
       "  <tbody>\n",
       "    <tr>\n",
       "      <th>0</th>\n",
       "      <td>0.042313</td>\n",
       "      <td>0.100407</td>\n",
       "      <td>0.006988</td>\n",
       "      <td>2.465698</td>\n",
       "      <td>0.043856</td>\n",
       "      <td>0.053277</td>\n",
       "      <td>0.119228</td>\n",
       "      <td>-0.258325</td>\n",
       "    </tr>\n",
       "    <tr>\n",
       "      <th>1</th>\n",
       "      <td>0.037932</td>\n",
       "      <td>0.094715</td>\n",
       "      <td>0.065697</td>\n",
       "      <td>2.373779</td>\n",
       "      <td>0.041147</td>\n",
       "      <td>0.046393</td>\n",
       "      <td>0.081393</td>\n",
       "      <td>-0.167447</td>\n",
       "    </tr>\n",
       "    <tr>\n",
       "      <th>2</th>\n",
       "      <td>0.072479</td>\n",
       "      <td>0.113536</td>\n",
       "      <td>-0.344478</td>\n",
       "      <td>3.167890</td>\n",
       "      <td>0.050461</td>\n",
       "      <td>0.067942</td>\n",
       "      <td>0.364012</td>\n",
       "      <td>-0.157844</td>\n",
       "    </tr>\n",
       "    <tr>\n",
       "      <th>3</th>\n",
       "      <td>0.020023</td>\n",
       "      <td>0.095188</td>\n",
       "      <td>-0.233507</td>\n",
       "      <td>3.276674</td>\n",
       "      <td>0.044672</td>\n",
       "      <td>0.054649</td>\n",
       "      <td>-0.102125</td>\n",
       "      <td>-0.179527</td>\n",
       "    </tr>\n",
       "    <tr>\n",
       "      <th>4</th>\n",
       "      <td>0.059489</td>\n",
       "      <td>0.112622</td>\n",
       "      <td>0.011364</td>\n",
       "      <td>2.697532</td>\n",
       "      <td>0.047997</td>\n",
       "      <td>0.058642</td>\n",
       "      <td>0.254708</td>\n",
       "      <td>-0.202964</td>\n",
       "    </tr>\n",
       "  </tbody>\n",
       "</table>\n",
       "</div>"
      ],
      "text/plain": [
       "   Annualised Return  Annualised Vol  Skewness  Kurtosis  \\\n",
       "0           0.042313        0.100407  0.006988  2.465698   \n",
       "1           0.037932        0.094715  0.065697  2.373779   \n",
       "2           0.072479        0.113536 -0.344478  3.167890   \n",
       "3           0.020023        0.095188 -0.233507  3.276674   \n",
       "4           0.059489        0.112622  0.011364  2.697532   \n",
       "\n",
       "   Cornish-Fisher VaR (5%)  Historic CVaR (5%)  Sharpe Ratio  Max Drawdown  \n",
       "0                 0.043856            0.053277      0.119228     -0.258325  \n",
       "1                 0.041147            0.046393      0.081393     -0.167447  \n",
       "2                 0.050461            0.067942      0.364012     -0.157844  \n",
       "3                 0.044672            0.054649     -0.102125     -0.179527  \n",
       "4                 0.047997            0.058642      0.254708     -0.202964  "
      ]
     },
     "execution_count": 10,
     "metadata": {},
     "output_type": "execute_result"
    }
   ],
   "source": [
    "summaries.head()"
   ]
  },
  {
   "cell_type": "code",
   "execution_count": 11,
   "metadata": {},
   "outputs": [
    {
     "data": {
      "text/plain": [
       "Annualised Return          0.056447\n",
       "Annualised Vol             0.107981\n",
       "Skewness                   0.000316\n",
       "Kurtosis                   2.944513\n",
       "Cornish-Fisher VaR (5%)    0.046089\n",
       "Historic CVaR (5%)         0.058316\n",
       "Sharpe Ratio               0.239791\n",
       "Max Drawdown              -0.205299\n",
       "dtype: float64"
      ]
     },
     "execution_count": 11,
     "metadata": {},
     "output_type": "execute_result"
    }
   ],
   "source": [
    "summaries.mean()"
   ]
  },
  {
   "cell_type": "code",
   "execution_count": 12,
   "metadata": {},
   "outputs": [],
   "source": [
    "def terminal_values(rets):\n",
    "    '''\n",
    "    Returns the final values of a dollar at the end of the return period for each scenario\n",
    "    '''\n",
    "    return (rets+1).prod()"
   ]
  },
  {
   "cell_type": "code",
   "execution_count": 13,
   "metadata": {},
   "outputs": [
    {
     "data": {
      "text/html": [
       "<div>\n",
       "<style scoped>\n",
       "    .dataframe tbody tr th:only-of-type {\n",
       "        vertical-align: middle;\n",
       "    }\n",
       "\n",
       "    .dataframe tbody tr th {\n",
       "        vertical-align: top;\n",
       "    }\n",
       "\n",
       "    .dataframe thead th {\n",
       "        text-align: right;\n",
       "    }\n",
       "</style>\n",
       "<table border=\"1\" class=\"dataframe\">\n",
       "  <thead>\n",
       "    <tr style=\"text-align: right;\">\n",
       "      <th></th>\n",
       "      <th>FI</th>\n",
       "      <th>Eq</th>\n",
       "      <th>70/30</th>\n",
       "    </tr>\n",
       "  </thead>\n",
       "  <tbody>\n",
       "    <tr>\n",
       "      <th>mean</th>\n",
       "      <td>1.389874</td>\n",
       "      <td>2.016391</td>\n",
       "      <td>1.815828</td>\n",
       "    </tr>\n",
       "    <tr>\n",
       "      <th>std</th>\n",
       "      <td>0.107104</td>\n",
       "      <td>0.988597</td>\n",
       "      <td>0.605788</td>\n",
       "    </tr>\n",
       "    <tr>\n",
       "      <th>p_breach</th>\n",
       "      <td>NaN</td>\n",
       "      <td>0.046000</td>\n",
       "      <td>0.006000</td>\n",
       "    </tr>\n",
       "    <tr>\n",
       "      <th>e_short</th>\n",
       "      <td>NaN</td>\n",
       "      <td>0.102935</td>\n",
       "      <td>0.081304</td>\n",
       "    </tr>\n",
       "    <tr>\n",
       "      <th>p_reach</th>\n",
       "      <td>NaN</td>\n",
       "      <td>NaN</td>\n",
       "      <td>NaN</td>\n",
       "    </tr>\n",
       "    <tr>\n",
       "      <th>e_surplus</th>\n",
       "      <td>NaN</td>\n",
       "      <td>NaN</td>\n",
       "      <td>NaN</td>\n",
       "    </tr>\n",
       "  </tbody>\n",
       "</table>\n",
       "</div>"
      ],
      "text/plain": [
       "                 FI        Eq     70/30\n",
       "mean       1.389874  2.016391  1.815828\n",
       "std        0.107104  0.988597  0.605788\n",
       "p_breach        NaN  0.046000  0.006000\n",
       "e_short         NaN  0.102935  0.081304\n",
       "p_reach         NaN       NaN       NaN\n",
       "e_surplus       NaN       NaN       NaN"
      ]
     },
     "execution_count": 13,
     "metadata": {},
     "output_type": "execute_result"
    }
   ],
   "source": [
    "pd.concat([\n",
    "    erk.terminal_stats(rets_bonds, name = \"FI\"),\n",
    "    erk.terminal_stats(rets_eq, name = \"Eq\"),\n",
    "    erk.terminal_stats(rets_7030b, name = \"70/30\")\n",
    "], axis = \"columns\")"
   ]
  },
  {
   "cell_type": "code",
   "execution_count": 14,
   "metadata": {},
   "outputs": [],
   "source": [
    "import seaborn as sns\n",
    "import matplotlib.pyplot as plt"
   ]
  },
  {
   "cell_type": "code",
   "execution_count": 15,
   "metadata": {},
   "outputs": [
    {
     "name": "stderr",
     "output_type": "stream",
     "text": [
      "/Users/mog/.local/share/virtualenvs/Investment-Management-with-Python-3feIDhEi/lib/python3.10/site-packages/seaborn/distributions.py:2619: FutureWarning: `distplot` is a deprecated function and will be removed in a future version. Please adapt your code to use either `displot` (a figure-level function with similar flexibility) or `histplot` (an axes-level function for histograms).\n",
      "  warnings.warn(msg, FutureWarning)\n",
      "/Users/mog/.local/share/virtualenvs/Investment-Management-with-Python-3feIDhEi/lib/python3.10/site-packages/seaborn/distributions.py:2619: FutureWarning: `distplot` is a deprecated function and will be removed in a future version. Please adapt your code to use either `displot` (a figure-level function with similar flexibility) or `histplot` (an axes-level function for histograms).\n",
      "  warnings.warn(msg, FutureWarning)\n",
      "/Users/mog/.local/share/virtualenvs/Investment-Management-with-Python-3feIDhEi/lib/python3.10/site-packages/seaborn/distributions.py:2619: FutureWarning: `distplot` is a deprecated function and will be removed in a future version. Please adapt your code to use either `displot` (a figure-level function with similar flexibility) or `histplot` (an axes-level function for histograms).\n",
      "  warnings.warn(msg, FutureWarning)\n"
     ]
    },
    {
     "data": {
      "image/png": "[encoded data removed]",
      "text/plain": [
       "<Figure size 1200x600 with 1 Axes>"
      ]
     },
     "metadata": {},
     "output_type": "display_data"
    }
   ],
   "source": [
    "plt.figure(figsize=(12, 6))\n",
    "sns.distplot(erk.terminal_values(rets_eq), color = \"red\", label = \"100% equities\")\n",
    "sns.distplot(erk.terminal_values(rets_bonds), color = \"blue\", label = \"100% bonds\")\n",
    "sns.distplot(erk.terminal_values(rets_7030b), color = \"orange\", label = \"70/30 Equities/Bonds\")\n",
    "plt.legend();"
   ]
  },
  {
   "cell_type": "markdown",
   "metadata": {},
   "source": [
    "## Glide Paths for Allocation"
   ]
  },
  {
   "cell_type": "code",
   "execution_count": 16,
   "metadata": {},
   "outputs": [],
   "source": [
    "def glidepath_allocator(r1, r2, start_glide = 1, end_glide = 0):\n",
    "    '''\n",
    "    Simulated a Target-Date_fund style gradual move from r1 to r2\n",
    "    '''\n",
    "    n_points = r1.shape[0]\n",
    "    n_col = r1.shape[1]\n",
    "    path = pd.Series(data = np.linspace(start_glide, end_glide, num = n_points))\n",
    "    paths = pd.concat([path]*n_col, axis = 1)\n",
    "    paths.index = r1.index\n",
    "    paths.columns = r1.columns\n",
    "    return paths"
   ]
  },
  {
   "cell_type": "code",
   "execution_count": 17,
   "metadata": {},
   "outputs": [],
   "source": [
    "rets_g8020 = erk.bt_mix(rets_eq, rets_bonds, allocator = erk.glidepath_allocator, start_glide = 0.80, end_glide = 0.20)"
   ]
  },
  {
   "cell_type": "code",
   "execution_count": 18,
   "metadata": {},
   "outputs": [
    {
     "data": {
      "text/html": [
       "<div>\n",
       "<style scoped>\n",
       "    .dataframe tbody tr th:only-of-type {\n",
       "        vertical-align: middle;\n",
       "    }\n",
       "\n",
       "    .dataframe tbody tr th {\n",
       "        vertical-align: top;\n",
       "    }\n",
       "\n",
       "    .dataframe thead th {\n",
       "        text-align: right;\n",
       "    }\n",
       "</style>\n",
       "<table border=\"1\" class=\"dataframe\">\n",
       "  <thead>\n",
       "    <tr style=\"text-align: right;\">\n",
       "      <th></th>\n",
       "      <th>FI</th>\n",
       "      <th>Eq</th>\n",
       "      <th>70/30</th>\n",
       "      <th>Glide 80 to 20</th>\n",
       "    </tr>\n",
       "  </thead>\n",
       "  <tbody>\n",
       "    <tr>\n",
       "      <th>mean</th>\n",
       "      <td>1.389874</td>\n",
       "      <td>2.016391</td>\n",
       "      <td>1.815828</td>\n",
       "      <td>1.687011</td>\n",
       "    </tr>\n",
       "    <tr>\n",
       "      <th>std</th>\n",
       "      <td>0.107104</td>\n",
       "      <td>0.988597</td>\n",
       "      <td>0.605788</td>\n",
       "      <td>0.435464</td>\n",
       "    </tr>\n",
       "    <tr>\n",
       "      <th>p_breach</th>\n",
       "      <td>NaN</td>\n",
       "      <td>0.046000</td>\n",
       "      <td>0.006000</td>\n",
       "      <td>0.002000</td>\n",
       "    </tr>\n",
       "    <tr>\n",
       "      <th>e_short</th>\n",
       "      <td>NaN</td>\n",
       "      <td>0.102935</td>\n",
       "      <td>0.081304</td>\n",
       "      <td>0.007767</td>\n",
       "    </tr>\n",
       "    <tr>\n",
       "      <th>p_reach</th>\n",
       "      <td>NaN</td>\n",
       "      <td>NaN</td>\n",
       "      <td>NaN</td>\n",
       "      <td>NaN</td>\n",
       "    </tr>\n",
       "    <tr>\n",
       "      <th>e_surplus</th>\n",
       "      <td>NaN</td>\n",
       "      <td>NaN</td>\n",
       "      <td>NaN</td>\n",
       "      <td>NaN</td>\n",
       "    </tr>\n",
       "  </tbody>\n",
       "</table>\n",
       "</div>"
      ],
      "text/plain": [
       "                 FI        Eq     70/30  Glide 80 to 20\n",
       "mean       1.389874  2.016391  1.815828        1.687011\n",
       "std        0.107104  0.988597  0.605788        0.435464\n",
       "p_breach        NaN  0.046000  0.006000        0.002000\n",
       "e_short         NaN  0.102935  0.081304        0.007767\n",
       "p_reach         NaN       NaN       NaN             NaN\n",
       "e_surplus       NaN       NaN       NaN             NaN"
      ]
     },
     "execution_count": 18,
     "metadata": {},
     "output_type": "execute_result"
    }
   ],
   "source": [
    "pd.concat([\n",
    "    erk.terminal_stats(rets_bonds, name = \"FI\"),\n",
    "    erk.terminal_stats(rets_eq, name = \"Eq\"),\n",
    "    erk.terminal_stats(rets_7030b, name = \"70/30\"),\n",
    "    erk.terminal_stats(rets_g8020, name = \"Glide 80 to 20\")\n",
    "], axis = \"columns\")"
   ]
  }
 ],
 "metadata": {
  "kernelspec": {
   "display_name": "Python 3.10.2 ('Investment-Management-with-Python-3feIDhEi')",
   "language": "python",
   "name": "python3"
  },
  "language_info": {
   "codemirror_mode": {
    "name": "ipython",
    "version": 3
   },
   "file_extension": ".py",
   "mimetype": "text/x-python",
   "name": "python",
   "nbconvert_exporter": "python",
   "pygments_lexer": "ipython3",
   "version": "3.10.2"
  },
  "orig_nbformat": 4,
  "vscode": {
   "interpreter": {
    "hash": "5177ea2b85ad9f85adfeb4d69aa2ac09b0af5e9e42cc7bf37df3babaebb16599"
   }
  }
 },
 "nbformat": 4,
 "nbformat_minor": 2
}
