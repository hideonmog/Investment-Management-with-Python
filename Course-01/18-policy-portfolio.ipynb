{
 "cells": [
  {
   "cell_type": "markdown",
   "metadata": {},
   "source": [
    "# Choosing the Policy Portfolio\n",
    "\n",
    "### Optimal Asset Mix\n",
    "\n",
    "When facing liabilities we discussed that an investor should hold two portfolios: PSP (Perfomance Seeking Portfolio) and LHP (Liability-Hedging Portfolio). At this stage the only outstanding question becomes: how much do we allocate to each of these portfolios?\n",
    "\n",
    "### Risk-Aversion and Risk Budgets\n",
    "\n",
    "In theory we could just use a risk-aversion parameter to decide how much we should allocate to each portfolio, where a more risk-averse investor would allocate more to the LHP and a less risk-averse investor would allocate more the PSP. However, this is just a mathematical quantity and doesn't exactly translate to anything in the real world, who's risk-aversion are we talking about when there are a multiplicity of stakeholders and investors?\n",
    "\n",
    "The risk-aversion parameter should be thought of as a free parameter. And this free parameter will be translated in terms of risk budgets. We can try different allocation splits between the portfolios which will translate into different levels of volatility of the funding ratio, max drawdown of the funding ratio and max drawdown of the funding ratio just to name a few examples. In practice, asset owners tend to invest in performance seeking assets and the allocation to the PSP is always increasing untill the risk budget is exhausted. The risk budget is generally set by the stakeholders or agents acting on their behalf.\n",
    "\n",
    "### Conflicts\n",
    "\n",
    "There's a conflict usually between the short-term constraints and the long-term objectives. You can also think of this as a conflict between dollar and risk budgets, in other words, if you have very tight risk budgets and you can't or don't want to take on too much risk then that is going to imply that you're not going to be able to generate much upside. As a result of this you will have to come up with big dollar budgets, very high contribution levels for you to be able to achieve the target lavels that you have in mind.\n",
    "\n",
    "### Solving the Dilemma\n",
    "\n",
    "How can we succeed in generating upside performance whilst having only tight risk budgets? One may try and hide the problem by using a higher discount rate when discounting the liability value, use a higher risk premia value when we simulate the performance of the risky assets. However, this is just playing around with parameter values, it;s not exactly improving the current situation at hand. Alternatively, one may try and solve the problem by requesting a higher dollar budget (additional contribution), requesting a higher risk budget, improve the PSP."
   ]
  },
  {
   "cell_type": "markdown",
   "metadata": {},
   "source": [
    "# Lab Session - Monte Carlo Simulation of Coupon-Bearing Bonds using CIR"
   ]
  },
  {
   "cell_type": "code",
   "execution_count": 36,
   "metadata": {},
   "outputs": [
    {
     "name": "stdout",
     "output_type": "stream",
     "text": [
      "The autoreload extension is already loaded. To reload it, use:\n",
      "  %reload_ext autoreload\n"
     ]
    }
   ],
   "source": [
    "import pandas as pd\n",
    "import numpy as np\n",
    "import edhec_risk_kit as erk\n",
    "import ipywidgets as widgets\n",
    "%load_ext autoreload \n",
    "%autoreload 2"
   ]
  },
  {
   "cell_type": "code",
   "execution_count": 37,
   "metadata": {},
   "outputs": [
    {
     "data": {
      "text/plain": [
       "0    109.275393\n",
       "dtype: float64"
      ]
     },
     "execution_count": 37,
     "metadata": {},
     "output_type": "execute_result"
    }
   ],
   "source": [
    "erk.bond_price(5, 100, 0.05, 12, 0.03)"
   ]
  },
  {
   "cell_type": "code",
   "execution_count": 38,
   "metadata": {},
   "outputs": [],
   "source": [
    "rates, zc_prices = erk.cir(10, 500, b = 0.03, r_0 = 0.03)"
   ]
  },
  {
   "cell_type": "code",
   "execution_count": 39,
   "metadata": {},
   "outputs": [
    {
     "data": {
      "text/plain": [
       "1    109.275393\n",
       "2    109.275393\n",
       "3    109.275393\n",
       "dtype: float64"
      ]
     },
     "execution_count": 39,
     "metadata": {},
     "output_type": "execute_result"
    }
   ],
   "source": [
    "erk.bond_price(5, 100, 0.05, 12, rates.iloc[0][[1, 2, 3]])"
   ]
  },
  {
   "cell_type": "code",
   "execution_count": 40,
   "metadata": {},
   "outputs": [
    {
     "data": {
      "text/plain": [
       "1    110.144477\n",
       "2    108.927690\n",
       "3    109.203350\n",
       "dtype: float64"
      ]
     },
     "execution_count": 40,
     "metadata": {},
     "output_type": "execute_result"
    }
   ],
   "source": [
    "erk.bond_price(5, 100, 0.05, 12, rates.iloc[1][[1, 2, 3]])"
   ]
  },
  {
   "cell_type": "code",
   "execution_count": 41,
   "metadata": {},
   "outputs": [
    {
     "data": {
      "text/html": [
       "<div>\n",
       "<style scoped>\n",
       "    .dataframe tbody tr th:only-of-type {\n",
       "        vertical-align: middle;\n",
       "    }\n",
       "\n",
       "    .dataframe tbody tr th {\n",
       "        vertical-align: top;\n",
       "    }\n",
       "\n",
       "    .dataframe thead th {\n",
       "        text-align: right;\n",
       "    }\n",
       "</style>\n",
       "<table border=\"1\" class=\"dataframe\">\n",
       "  <thead>\n",
       "    <tr style=\"text-align: right;\">\n",
       "      <th></th>\n",
       "      <th>1</th>\n",
       "      <th>2</th>\n",
       "      <th>3</th>\n",
       "    </tr>\n",
       "  </thead>\n",
       "  <tbody>\n",
       "    <tr>\n",
       "      <th>0</th>\n",
       "      <td>0.030000</td>\n",
       "      <td>0.030000</td>\n",
       "      <td>0.030000</td>\n",
       "    </tr>\n",
       "    <tr>\n",
       "      <th>1</th>\n",
       "      <td>0.028222</td>\n",
       "      <td>0.030716</td>\n",
       "      <td>0.030148</td>\n",
       "    </tr>\n",
       "    <tr>\n",
       "      <th>2</th>\n",
       "      <td>0.029324</td>\n",
       "      <td>0.028848</td>\n",
       "      <td>0.030705</td>\n",
       "    </tr>\n",
       "    <tr>\n",
       "      <th>3</th>\n",
       "      <td>0.028980</td>\n",
       "      <td>0.030534</td>\n",
       "      <td>0.031987</td>\n",
       "    </tr>\n",
       "    <tr>\n",
       "      <th>4</th>\n",
       "      <td>0.030876</td>\n",
       "      <td>0.033130</td>\n",
       "      <td>0.030377</td>\n",
       "    </tr>\n",
       "  </tbody>\n",
       "</table>\n",
       "</div>"
      ],
      "text/plain": [
       "          1         2         3\n",
       "0  0.030000  0.030000  0.030000\n",
       "1  0.028222  0.030716  0.030148\n",
       "2  0.029324  0.028848  0.030705\n",
       "3  0.028980  0.030534  0.031987\n",
       "4  0.030876  0.033130  0.030377"
      ]
     },
     "execution_count": 41,
     "metadata": {},
     "output_type": "execute_result"
    }
   ],
   "source": [
    "rates[[1, 2, 3]].head()"
   ]
  },
  {
   "cell_type": "code",
   "execution_count": 42,
   "metadata": {},
   "outputs": [
    {
     "data": {
      "text/plain": [
       "<AxesSubplot:>"
      ]
     },
     "execution_count": 42,
     "metadata": {},
     "output_type": "execute_result"
    },
    {
     "data": {
      "image/png": "[encoded data removed]",
      "text/plain": [
       "<Figure size 1080x576 with 1 Axes>"
      ]
     },
     "metadata": {},
     "output_type": "display_data"
    }
   ],
   "source": [
    "erk.bond_price(10, 100, 0.05, 12, rates[[1, 2, 3, 4, 5]]).plot(legend = False, figsize = (15, 8))"
   ]
  },
  {
   "cell_type": "code",
   "execution_count": 43,
   "metadata": {},
   "outputs": [
    {
     "data": {
      "text/html": [
       "<div>\n",
       "<style scoped>\n",
       "    .dataframe tbody tr th:only-of-type {\n",
       "        vertical-align: middle;\n",
       "    }\n",
       "\n",
       "    .dataframe tbody tr th {\n",
       "        vertical-align: top;\n",
       "    }\n",
       "\n",
       "    .dataframe thead th {\n",
       "        text-align: right;\n",
       "    }\n",
       "</style>\n",
       "<table border=\"1\" class=\"dataframe\">\n",
       "  <thead>\n",
       "    <tr style=\"text-align: right;\">\n",
       "      <th></th>\n",
       "      <th>1</th>\n",
       "      <th>2</th>\n",
       "      <th>3</th>\n",
       "      <th>4</th>\n",
       "      <th>5</th>\n",
       "    </tr>\n",
       "  </thead>\n",
       "  <tbody>\n",
       "    <tr>\n",
       "      <th>0</th>\n",
       "      <td>117.260292</td>\n",
       "      <td>117.260292</td>\n",
       "      <td>117.260292</td>\n",
       "      <td>117.260292</td>\n",
       "      <td>117.260292</td>\n",
       "    </tr>\n",
       "    <tr>\n",
       "      <th>1</th>\n",
       "      <td>118.81843</td>\n",
       "      <td>116.467632</td>\n",
       "      <td>116.99796</td>\n",
       "      <td>114.648524</td>\n",
       "      <td>119.919825</td>\n",
       "    </tr>\n",
       "    <tr>\n",
       "      <th>2</th>\n",
       "      <td>117.644188</td>\n",
       "      <td>118.090535</td>\n",
       "      <td>116.358988</td>\n",
       "      <td>111.084213</td>\n",
       "      <td>117.274339</td>\n",
       "    </tr>\n",
       "    <tr>\n",
       "      <th>3</th>\n",
       "      <td>117.835335</td>\n",
       "      <td>116.397259</td>\n",
       "      <td>115.070279</td>\n",
       "      <td>111.672609</td>\n",
       "      <td>114.683761</td>\n",
       "    </tr>\n",
       "    <tr>\n",
       "      <th>4</th>\n",
       "      <td>115.965175</td>\n",
       "      <td>113.937618</td>\n",
       "      <td>116.419733</td>\n",
       "      <td>112.909317</td>\n",
       "      <td>114.25988</td>\n",
       "    </tr>\n",
       "    <tr>\n",
       "      <th>...</th>\n",
       "      <td>...</td>\n",
       "      <td>...</td>\n",
       "      <td>...</td>\n",
       "      <td>...</td>\n",
       "      <td>...</td>\n",
       "    </tr>\n",
       "    <tr>\n",
       "      <th>116</th>\n",
       "      <td>101.596769</td>\n",
       "      <td>100.459023</td>\n",
       "      <td>101.158936</td>\n",
       "      <td>100.45732</td>\n",
       "      <td>100.864167</td>\n",
       "    </tr>\n",
       "    <tr>\n",
       "      <th>117</th>\n",
       "      <td>101.181433</td>\n",
       "      <td>100.415521</td>\n",
       "      <td>100.8781</td>\n",
       "      <td>100.259356</td>\n",
       "      <td>100.684323</td>\n",
       "    </tr>\n",
       "    <tr>\n",
       "      <th>118</th>\n",
       "      <td>100.801031</td>\n",
       "      <td>100.301875</td>\n",
       "      <td>100.579245</td>\n",
       "      <td>100.188836</td>\n",
       "      <td>100.455128</td>\n",
       "    </tr>\n",
       "    <tr>\n",
       "      <th>119</th>\n",
       "      <td>100.399813</td>\n",
       "      <td>100.172897</td>\n",
       "      <td>100.27187</td>\n",
       "      <td>100.104138</td>\n",
       "      <td>100.198523</td>\n",
       "    </tr>\n",
       "    <tr>\n",
       "      <th>120</th>\n",
       "      <td>100.416667</td>\n",
       "      <td>100.416667</td>\n",
       "      <td>100.416667</td>\n",
       "      <td>100.416667</td>\n",
       "      <td>100.416667</td>\n",
       "    </tr>\n",
       "  </tbody>\n",
       "</table>\n",
       "<p>121 rows × 5 columns</p>\n",
       "</div>"
      ],
      "text/plain": [
       "              1           2           3           4           5\n",
       "0    117.260292  117.260292  117.260292  117.260292  117.260292\n",
       "1     118.81843  116.467632   116.99796  114.648524  119.919825\n",
       "2    117.644188  118.090535  116.358988  111.084213  117.274339\n",
       "3    117.835335  116.397259  115.070279  111.672609  114.683761\n",
       "4    115.965175  113.937618  116.419733  112.909317   114.25988\n",
       "..          ...         ...         ...         ...         ...\n",
       "116  101.596769  100.459023  101.158936   100.45732  100.864167\n",
       "117  101.181433  100.415521    100.8781  100.259356  100.684323\n",
       "118  100.801031  100.301875  100.579245  100.188836  100.455128\n",
       "119  100.399813  100.172897   100.27187  100.104138  100.198523\n",
       "120  100.416667  100.416667  100.416667  100.416667  100.416667\n",
       "\n",
       "[121 rows x 5 columns]"
      ]
     },
     "execution_count": 43,
     "metadata": {},
     "output_type": "execute_result"
    }
   ],
   "source": [
    "prices = erk.bond_price(10, 100, 0.05, 12, rates[[1, 2, 3, 4, 5]])\n",
    "prices"
   ]
  },
  {
   "cell_type": "code",
   "execution_count": 44,
   "metadata": {},
   "outputs": [
    {
     "data": {
      "text/plain": [
       "1   -0.015387\n",
       "2   -0.015387\n",
       "3   -0.015387\n",
       "4   -0.015387\n",
       "5   -0.015387\n",
       "dtype: float64"
      ]
     },
     "execution_count": 44,
     "metadata": {},
     "output_type": "execute_result"
    }
   ],
   "source": [
    "br = prices.pct_change().dropna()\n",
    "erk.annualise_rets(br, 12)"
   ]
  },
  {
   "cell_type": "code",
   "execution_count": 50,
   "metadata": {},
   "outputs": [
    {
     "data": {
      "text/plain": [
       "1    0.027866\n",
       "2    0.035362\n",
       "3    0.028894\n",
       "4    0.029871\n",
       "dtype: object"
      ]
     },
     "execution_count": 50,
     "metadata": {},
     "output_type": "execute_result"
    }
   ],
   "source": [
    "p = erk.bond_price(10, 100, 0.05, 12, rates[[1,2,3,4]])\n",
    "btr = erk.bond_total_return(p, 100, 0.05, 12)\n",
    "erk.annualise_rets(btr, 12)"
   ]
  },
  {
   "cell_type": "code",
   "execution_count": 51,
   "metadata": {},
   "outputs": [
    {
     "data": {
      "text/html": [
       "<div>\n",
       "<style scoped>\n",
       "    .dataframe tbody tr th:only-of-type {\n",
       "        vertical-align: middle;\n",
       "    }\n",
       "\n",
       "    .dataframe tbody tr th {\n",
       "        vertical-align: top;\n",
       "    }\n",
       "\n",
       "    .dataframe thead th {\n",
       "        text-align: right;\n",
       "    }\n",
       "</style>\n",
       "<table border=\"1\" class=\"dataframe\">\n",
       "  <thead>\n",
       "    <tr style=\"text-align: right;\">\n",
       "      <th></th>\n",
       "      <th>1</th>\n",
       "      <th>2</th>\n",
       "      <th>3</th>\n",
       "    </tr>\n",
       "  </thead>\n",
       "  <tbody>\n",
       "    <tr>\n",
       "      <th>116</th>\n",
       "      <td>101.596769</td>\n",
       "      <td>100.459023</td>\n",
       "      <td>101.158936</td>\n",
       "    </tr>\n",
       "    <tr>\n",
       "      <th>117</th>\n",
       "      <td>101.181433</td>\n",
       "      <td>100.415521</td>\n",
       "      <td>100.8781</td>\n",
       "    </tr>\n",
       "    <tr>\n",
       "      <th>118</th>\n",
       "      <td>100.801031</td>\n",
       "      <td>100.301875</td>\n",
       "      <td>100.579245</td>\n",
       "    </tr>\n",
       "    <tr>\n",
       "      <th>119</th>\n",
       "      <td>100.399813</td>\n",
       "      <td>100.172897</td>\n",
       "      <td>100.27187</td>\n",
       "    </tr>\n",
       "    <tr>\n",
       "      <th>120</th>\n",
       "      <td>100.416667</td>\n",
       "      <td>100.416667</td>\n",
       "      <td>100.416667</td>\n",
       "    </tr>\n",
       "  </tbody>\n",
       "</table>\n",
       "</div>"
      ],
      "text/plain": [
       "              1           2           3\n",
       "116  101.596769  100.459023  101.158936\n",
       "117  101.181433  100.415521    100.8781\n",
       "118  100.801031  100.301875  100.579245\n",
       "119  100.399813  100.172897   100.27187\n",
       "120  100.416667  100.416667  100.416667"
      ]
     },
     "execution_count": 51,
     "metadata": {},
     "output_type": "execute_result"
    }
   ],
   "source": [
    "price_10 = erk.bond_price(10, 100, 0.05, 12, rates)\n",
    "price_10[[1,2,3]].tail()"
   ]
  },
  {
   "cell_type": "code",
   "execution_count": 52,
   "metadata": {},
   "outputs": [
    {
     "data": {
      "text/html": [
       "<div>\n",
       "<style scoped>\n",
       "    .dataframe tbody tr th:only-of-type {\n",
       "        vertical-align: middle;\n",
       "    }\n",
       "\n",
       "    .dataframe tbody tr th {\n",
       "        vertical-align: top;\n",
       "    }\n",
       "\n",
       "    .dataframe thead th {\n",
       "        text-align: right;\n",
       "    }\n",
       "</style>\n",
       "<table border=\"1\" class=\"dataframe\">\n",
       "  <thead>\n",
       "    <tr style=\"text-align: right;\">\n",
       "      <th></th>\n",
       "      <th>1</th>\n",
       "      <th>2</th>\n",
       "      <th>3</th>\n",
       "    </tr>\n",
       "  </thead>\n",
       "  <tbody>\n",
       "    <tr>\n",
       "      <th>116</th>\n",
       "      <td>195.408764</td>\n",
       "      <td>119.96171</td>\n",
       "      <td>161.018563</td>\n",
       "    </tr>\n",
       "    <tr>\n",
       "      <th>117</th>\n",
       "      <td>193.139075</td>\n",
       "      <td>124.597026</td>\n",
       "      <td>161.582728</td>\n",
       "    </tr>\n",
       "    <tr>\n",
       "      <th>118</th>\n",
       "      <td>195.081484</td>\n",
       "      <td>127.041242</td>\n",
       "      <td>160.458671</td>\n",
       "    </tr>\n",
       "    <tr>\n",
       "      <th>119</th>\n",
       "      <td>194.439819</td>\n",
       "      <td>131.57386</td>\n",
       "      <td>155.381123</td>\n",
       "    </tr>\n",
       "    <tr>\n",
       "      <th>120</th>\n",
       "      <td>192.231058</td>\n",
       "      <td>131.334366</td>\n",
       "      <td>151.894216</td>\n",
       "    </tr>\n",
       "  </tbody>\n",
       "</table>\n",
       "</div>"
      ],
      "text/plain": [
       "              1           2           3\n",
       "116  195.408764   119.96171  161.018563\n",
       "117  193.139075  124.597026  161.582728\n",
       "118  195.081484  127.041242  160.458671\n",
       "119  194.439819   131.57386  155.381123\n",
       "120  192.231058  131.334366  151.894216"
      ]
     },
     "execution_count": 52,
     "metadata": {},
     "output_type": "execute_result"
    }
   ],
   "source": [
    "price_30 = erk.bond_price(30, 100, 0.05, 12, rates)\n",
    "price_30[[1,2,3]].tail()"
   ]
  },
  {
   "cell_type": "code",
   "execution_count": 53,
   "metadata": {},
   "outputs": [
    {
     "data": {
      "text/html": [
       "<div>\n",
       "<style scoped>\n",
       "    .dataframe tbody tr th:only-of-type {\n",
       "        vertical-align: middle;\n",
       "    }\n",
       "\n",
       "    .dataframe tbody tr th {\n",
       "        vertical-align: top;\n",
       "    }\n",
       "\n",
       "    .dataframe thead th {\n",
       "        text-align: right;\n",
       "    }\n",
       "</style>\n",
       "<table border=\"1\" class=\"dataframe\">\n",
       "  <thead>\n",
       "    <tr style=\"text-align: right;\">\n",
       "      <th></th>\n",
       "      <th>1</th>\n",
       "      <th>2</th>\n",
       "      <th>3</th>\n",
       "    </tr>\n",
       "  </thead>\n",
       "  <tbody>\n",
       "    <tr>\n",
       "      <th>0</th>\n",
       "      <td>139.531564</td>\n",
       "      <td>139.531564</td>\n",
       "      <td>139.531564</td>\n",
       "    </tr>\n",
       "    <tr>\n",
       "      <th>1</th>\n",
       "      <td>143.963133</td>\n",
       "      <td>137.706365</td>\n",
       "      <td>139.09762</td>\n",
       "    </tr>\n",
       "    <tr>\n",
       "      <th>2</th>\n",
       "      <td>141.080398</td>\n",
       "      <td>142.281899</td>\n",
       "      <td>137.66821</td>\n",
       "    </tr>\n",
       "    <tr>\n",
       "      <th>3</th>\n",
       "      <td>141.874954</td>\n",
       "      <td>138.019831</td>\n",
       "      <td>134.541166</td>\n",
       "    </tr>\n",
       "    <tr>\n",
       "      <th>4</th>\n",
       "      <td>137.125968</td>\n",
       "      <td>131.837684</td>\n",
       "      <td>138.335868</td>\n",
       "    </tr>\n",
       "  </tbody>\n",
       "</table>\n",
       "</div>"
      ],
      "text/plain": [
       "            1           2           3\n",
       "0  139.531564  139.531564  139.531564\n",
       "1  143.963133  137.706365   139.09762\n",
       "2  141.080398  142.281899   137.66821\n",
       "3  141.874954  138.019831  134.541166\n",
       "4  137.125968  131.837684  138.335868"
      ]
     },
     "execution_count": 53,
     "metadata": {},
     "output_type": "execute_result"
    }
   ],
   "source": [
    "price_30[[1,2,3]].head()"
   ]
  },
  {
   "cell_type": "code",
   "execution_count": 54,
   "metadata": {},
   "outputs": [],
   "source": [
    "rets_30 = erk.bond_total_return(price_30, 100, 0.05, 12)\n",
    "rets_10 = erk.bond_total_return(price_10, 100, 0.05, 12)\n",
    "rets_bonds = 0.6*rets_10 + 0.4*rets_30"
   ]
  },
  {
   "cell_type": "code",
   "execution_count": 55,
   "metadata": {},
   "outputs": [
    {
     "data": {
      "text/html": [
       "<div>\n",
       "<style scoped>\n",
       "    .dataframe tbody tr th:only-of-type {\n",
       "        vertical-align: middle;\n",
       "    }\n",
       "\n",
       "    .dataframe tbody tr th {\n",
       "        vertical-align: top;\n",
       "    }\n",
       "\n",
       "    .dataframe thead th {\n",
       "        text-align: right;\n",
       "    }\n",
       "</style>\n",
       "<table border=\"1\" class=\"dataframe\">\n",
       "  <thead>\n",
       "    <tr style=\"text-align: right;\">\n",
       "      <th></th>\n",
       "      <th>Annualised Return</th>\n",
       "      <th>Annualised Vol</th>\n",
       "      <th>Skewness</th>\n",
       "      <th>Kurtosis</th>\n",
       "      <th>Cornish-Fisher VaR (5%)</th>\n",
       "      <th>Historic CVaR (5%)</th>\n",
       "      <th>Sharpe Ratio</th>\n",
       "      <th>Max Drawdown</th>\n",
       "    </tr>\n",
       "  </thead>\n",
       "  <tbody>\n",
       "    <tr>\n",
       "      <th>0</th>\n",
       "      <td>0.035948</td>\n",
       "      <td>0.003578</td>\n",
       "      <td>0.561469</td>\n",
       "      <td>3.116078</td>\n",
       "      <td>-0.001417</td>\n",
       "      <td>-0.001165</td>\n",
       "      <td>1.617959</td>\n",
       "      <td>0.0</td>\n",
       "    </tr>\n",
       "  </tbody>\n",
       "</table>\n",
       "</div>"
      ],
      "text/plain": [
       "   Annualised Return  Annualised Vol  Skewness  Kurtosis  \\\n",
       "0           0.035948        0.003578  0.561469  3.116078   \n",
       "\n",
       "   Cornish-Fisher VaR (5%)  Historic CVaR (5%)  Sharpe Ratio  Max Drawdown  \n",
       "0                -0.001417           -0.001165      1.617959           0.0  "
      ]
     },
     "execution_count": 55,
     "metadata": {},
     "output_type": "execute_result"
    }
   ],
   "source": [
    "mean_rets_bond = rets_bonds.mean(axis=\"columns\")\n",
    "erk.summary_stats(pd.DataFrame(mean_rets_bond))"
   ]
  },
  {
   "cell_type": "code",
   "execution_count": 56,
   "metadata": {},
   "outputs": [
    {
     "data": {
      "text/plain": [
       "(121, 500)"
      ]
     },
     "execution_count": 56,
     "metadata": {},
     "output_type": "execute_result"
    }
   ],
   "source": [
    "price_eq = erk.gbm_updated(n_years=10, n_scenarios=500, mu=0.07, sigma=0.15)\n",
    "price_eq.shape"
   ]
  },
  {
   "cell_type": "code",
   "execution_count": 57,
   "metadata": {},
   "outputs": [
    {
     "data": {
      "text/plain": [
       "(120, 500)"
      ]
     },
     "execution_count": 57,
     "metadata": {},
     "output_type": "execute_result"
    }
   ],
   "source": [
    "rets_eq = price_eq.pct_change().dropna()\n",
    "rets_eq.shape"
   ]
  },
  {
   "cell_type": "code",
   "execution_count": 58,
   "metadata": {},
   "outputs": [
    {
     "data": {
      "text/plain": [
       "(120, 500)"
      ]
     },
     "execution_count": 58,
     "metadata": {},
     "output_type": "execute_result"
    }
   ],
   "source": [
    "rets_bonds.shape"
   ]
  },
  {
   "cell_type": "code",
   "execution_count": 60,
   "metadata": {},
   "outputs": [
    {
     "data": {
      "text/html": [
       "<div>\n",
       "<style scoped>\n",
       "    .dataframe tbody tr th:only-of-type {\n",
       "        vertical-align: middle;\n",
       "    }\n",
       "\n",
       "    .dataframe tbody tr th {\n",
       "        vertical-align: top;\n",
       "    }\n",
       "\n",
       "    .dataframe thead th {\n",
       "        text-align: right;\n",
       "    }\n",
       "</style>\n",
       "<table border=\"1\" class=\"dataframe\">\n",
       "  <thead>\n",
       "    <tr style=\"text-align: right;\">\n",
       "      <th></th>\n",
       "      <th>Annualised Return</th>\n",
       "      <th>Annualised Vol</th>\n",
       "      <th>Skewness</th>\n",
       "      <th>Kurtosis</th>\n",
       "      <th>Cornish-Fisher VaR (5%)</th>\n",
       "      <th>Historic CVaR (5%)</th>\n",
       "      <th>Sharpe Ratio</th>\n",
       "      <th>Max Drawdown</th>\n",
       "    </tr>\n",
       "  </thead>\n",
       "  <tbody>\n",
       "    <tr>\n",
       "      <th>0</th>\n",
       "      <td>0.059485</td>\n",
       "      <td>0.004814</td>\n",
       "      <td>0.180401</td>\n",
       "      <td>2.766479</td>\n",
       "      <td>-0.002615</td>\n",
       "      <td>-0.002187</td>\n",
       "      <td>5.961585</td>\n",
       "      <td>0.0</td>\n",
       "    </tr>\n",
       "  </tbody>\n",
       "</table>\n",
       "</div>"
      ],
      "text/plain": [
       "   Annualised Return  Annualised Vol  Skewness  Kurtosis  \\\n",
       "0           0.059485        0.004814  0.180401  2.766479   \n",
       "\n",
       "   Cornish-Fisher VaR (5%)  Historic CVaR (5%)  Sharpe Ratio  Max Drawdown  \n",
       "0                -0.002615           -0.002187      5.961585           0.0  "
      ]
     },
     "execution_count": 60,
     "metadata": {},
     "output_type": "execute_result"
    }
   ],
   "source": [
    "rets = 0.7*rets_eq + 0.3*rets_bonds\n",
    "rets_mean = rets.mean(axis=\"columns\")\n",
    "erk.summary_stats(pd.DataFrame(rets_mean))"
   ]
  }
 ],
 "metadata": {
  "kernelspec": {
   "display_name": "Python 3.10.2 ('Investment-Management-with-Python-3feIDhEi')",
   "language": "python",
   "name": "python3"
  },
  "language_info": {
   "codemirror_mode": {
    "name": "ipython",
    "version": 3
   },
   "file_extension": ".py",
   "mimetype": "text/x-python",
   "name": "python",
   "nbconvert_exporter": "python",
   "pygments_lexer": "ipython3",
   "version": "3.10.2"
  },
  "orig_nbformat": 4,
  "vscode": {
   "interpreter": {
    "hash": "5177ea2b85ad9f85adfeb4d69aa2ac09b0af5e9e42cc7bf37df3babaebb16599"
   }
  }
 },
 "nbformat": 4,
 "nbformat_minor": 2
}
