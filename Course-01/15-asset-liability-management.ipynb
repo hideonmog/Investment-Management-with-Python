{
 "cells": [
  {
   "cell_type": "markdown",
   "metadata": {},
   "source": [
    "# From Asset Management to Asset-Liability Management\n",
    "\n",
    "### Pension Fund Crisis\n",
    "\n",
    "A the turn of the last millenuium there was a major pension fund crisis. If we look at the U.S from December 1999 to May 2003 the S&P 500 collective Defined Benefit Pension Plans went from a net surplus of $239 billion to a net deficit of $252 billion, this is almost a $500 billion swing. There are two main explanations for this pension ufn crisis. \n",
    "\n",
    "On the one hand we see at the turn of the millenium coincides with the burst of the tech bubble. The end of 1999 tech stock was super high and expensive then going into the 2000s the bubble exlodes and we see strong decreasing equity markets. That of course translates into a sharp decrease in pension plan assets that were invested in equity markets. If the crisis were to only be due to this burst of the tech bubble the situation would have been bad, but what made it even worse? At the same time that asset values were going down, liability values were going up because of decreasing interest rates. Given that the present value of the liabilities is esentially like a bond portfolio, so value of the liabilites go up if the discount rate goes down, which is exactly what happened. So it's what experts describe as a perfect storm of market conditions. This crisis signals the weakeness at the time of risk management and asset allocation practices. \n",
    "\n",
    "The same thing happened in 2008, when the market had the 'big collapse' with the subprime crisis and its consquences in descreasing equity markets. In 2009 not a single state in the U.S had a fund ratio (assets/liabilities) at or above 100%, meaning that the assets are not sufficient to cover the liabilities. This was a common theme not only in the U.S but the rest of the world.\n",
    "\n",
    "### Introducing a Liability Benchmark\n",
    "\n",
    "In asset-liability management what matter is asset value relative to liability value, rather than their isolated values. We can use the funding ratio defined as the ratio of assets divided by liabilities to help us benchmark our asset performance relative to the liabilities\n",
    "\n",
    "$$F_t = A_t/L_t.$$\n",
    "\n",
    "The surplus or deficit is defined as the difference between assets ad liability values,\n",
    "\n",
    "$$ S_t = A_t - L_t.$$"
   ]
  },
  {
   "cell_type": "markdown",
   "metadata": {},
   "source": [
    "# Lab Session - Present Value of Liabilites and Funding Ratio\n",
    "\n",
    "The present value of a set of liabilities $L$ where each liability $L_i$ is due at time $t_i$ is given by:\n",
    "\n",
    "$$PV(L) = \\sum_{i=1}^{k}B(t_i)L_i,$$\n",
    "\n",
    "where $B(t_i)$ is the price of a pure discount bond that pays one dollar at time $t_i$.\n",
    "\n",
    "If we assume that the yield curve is flat and the annual rate of interest is $r$ then $B(t)$ is given by\n",
    "\n",
    "$$ B(t) = \\frac{1}{(1+r)^t}$$"
   ]
  },
  {
   "cell_type": "code",
   "execution_count": 1,
   "metadata": {},
   "outputs": [],
   "source": [
    "import pandas as pd\n",
    "import numpy as np\n",
    "import edhec_risk_kit as erk\n",
    "import ipywidgets as widgets\n",
    "\n",
    "%load_ext autoreload\n",
    "%autoreload 2"
   ]
  },
  {
   "cell_type": "code",
   "execution_count": 2,
   "metadata": {},
   "outputs": [],
   "source": [
    "def discount(t, r):\n",
    "    '''\n",
    "    Compute the price of a pure discount bond that pays a dollar at time t, given annual interest rate r\n",
    "    '''\n",
    "    return (1 + r)**(-t)"
   ]
  },
  {
   "cell_type": "code",
   "execution_count": 3,
   "metadata": {},
   "outputs": [
    {
     "data": {
      "text/plain": [
       "0.7440939148967249"
      ]
     },
     "execution_count": 3,
     "metadata": {},
     "output_type": "execute_result"
    }
   ],
   "source": [
    "discount(10, 0.03)"
   ]
  },
  {
   "cell_type": "code",
   "execution_count": 8,
   "metadata": {},
   "outputs": [],
   "source": [
    "def pv(l, r):\n",
    "    '''\n",
    "    Computes the present value of a set of liabilities\n",
    "    l is indexed by the time, and the values are the amounts of each liability\n",
    "    r is the annual interest rate\n",
    "    returns the present value of the sum of liabilities\n",
    "    '''\n",
    "    dates = l.index\n",
    "    discounts = discount(dates, r)\n",
    "    return (discounts * l).sum()"
   ]
  },
  {
   "cell_type": "code",
   "execution_count": 9,
   "metadata": {},
   "outputs": [],
   "source": [
    "liabilities = pd.Series(data = [1, 1.5, 2, 2.5], index = [3, 3.5, 4, 4.5])"
   ]
  },
  {
   "cell_type": "code",
   "execution_count": 10,
   "metadata": {},
   "outputs": [
    {
     "data": {
      "text/plain": [
       "3.0    1.0\n",
       "3.5    1.5\n",
       "4.0    2.0\n",
       "4.5    2.5\n",
       "dtype: float64"
      ]
     },
     "execution_count": 10,
     "metadata": {},
     "output_type": "execute_result"
    }
   ],
   "source": [
    "liabilities"
   ]
  },
  {
   "cell_type": "code",
   "execution_count": 11,
   "metadata": {},
   "outputs": [
    {
     "data": {
      "text/plain": [
       "6.233320315080045"
      ]
     },
     "execution_count": 11,
     "metadata": {},
     "output_type": "execute_result"
    }
   ],
   "source": [
    "pv(liabilities, 0.03)"
   ]
  },
  {
   "cell_type": "code",
   "execution_count": 12,
   "metadata": {},
   "outputs": [
    {
     "data": {
      "text/plain": [
       "7.0"
      ]
     },
     "execution_count": 12,
     "metadata": {},
     "output_type": "execute_result"
    }
   ],
   "source": [
    "liabilities.sum()"
   ]
  },
  {
   "cell_type": "code",
   "execution_count": 13,
   "metadata": {},
   "outputs": [],
   "source": [
    "def funding_ratio(assets, liabilities, r):\n",
    "    '''\n",
    "    Computes the funding ratio of some assets given liabilities and interest rate\n",
    "    '''\n",
    "    return assets/pv(liabilities, r)"
   ]
  },
  {
   "cell_type": "code",
   "execution_count": 14,
   "metadata": {},
   "outputs": [
    {
     "data": {
      "text/plain": [
       "0.8021407126958777"
      ]
     },
     "execution_count": 14,
     "metadata": {},
     "output_type": "execute_result"
    }
   ],
   "source": [
    "funding_ratio(5, liabilities, 0.03)"
   ]
  },
  {
   "cell_type": "code",
   "execution_count": 17,
   "metadata": {},
   "outputs": [
    {
     "data": {
      "text/plain": [
       "0.7720304366941648"
      ]
     },
     "execution_count": 17,
     "metadata": {},
     "output_type": "execute_result"
    }
   ],
   "source": [
    "funding_ratio(5, liabilities, 0.02)"
   ]
  },
  {
   "cell_type": "code",
   "execution_count": 18,
   "metadata": {},
   "outputs": [
    {
     "data": {
      "text/plain": [
       "0.8649082768407927"
      ]
     },
     "execution_count": 18,
     "metadata": {},
     "output_type": "execute_result"
    }
   ],
   "source": [
    "funding_ratio(5, liabilities, 0.05)"
   ]
  },
  {
   "cell_type": "code",
   "execution_count": 19,
   "metadata": {},
   "outputs": [],
   "source": [
    "def show_funding_ratio(assets, r):\n",
    "    fr = funding_ratio(assets, liabilities, r)\n",
    "    print(f'{fr*100: .2f}')"
   ]
  },
  {
   "cell_type": "code",
   "execution_count": 20,
   "metadata": {},
   "outputs": [],
   "source": [
    "controls = widgets.interactive(show_funding_ratio,\n",
    "                                assets = widgets.IntSlider(min = 1, max = 10, step = 1, value = 5),\n",
    "                                r = (0, 0.20, 0.01))"
   ]
  },
  {
   "cell_type": "code",
   "execution_count": 21,
   "metadata": {},
   "outputs": [
    {
     "data": {
      "application/vnd.jupyter.widget-view+json": {
       "model_id": "cb82ddfd87764e429c6c79114bd29948",
       "version_major": 2,
       "version_minor": 0
      },
      "text/plain": [
       "interactive(children=(IntSlider(value=5, description='assets', max=10, min=1), FloatSlider(value=0.1, descript…"
      ]
     },
     "metadata": {},
     "output_type": "display_data"
    }
   ],
   "source": [
    "display(controls)"
   ]
  },
  {
   "cell_type": "code",
   "execution_count": null,
   "metadata": {},
   "outputs": [],
   "source": []
  }
 ],
 "metadata": {
  "kernelspec": {
   "display_name": "Python 3.10.2 ('Investment-Management-with-Python-3feIDhEi')",
   "language": "python",
   "name": "python3"
  },
  "language_info": {
   "codemirror_mode": {
    "name": "ipython",
    "version": 3
   },
   "file_extension": ".py",
   "mimetype": "text/x-python",
   "name": "python",
   "nbconvert_exporter": "python",
   "pygments_lexer": "ipython3",
   "version": "3.10.2"
  },
  "orig_nbformat": 4,
  "vscode": {
   "interpreter": {
    "hash": "5177ea2b85ad9f85adfeb4d69aa2ac09b0af5e9e42cc7bf37df3babaebb16599"
   }
  }
 },
 "nbformat": 4,
 "nbformat_minor": 2
}
